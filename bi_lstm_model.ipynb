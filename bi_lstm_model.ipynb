{
 "cells": [
  {
   "cell_type": "markdown",
   "metadata": {},
   "source": [
    "# Bi-LSTM Model"
   ]
  },
  {
   "cell_type": "code",
   "execution_count": 2,
   "metadata": {},
   "outputs": [
    {
     "name": "stderr",
     "output_type": "stream",
     "text": [
      "/var/folders/sh/9y2x7hyx76bghklsygtm6m000000gn/T/ipykernel_44069/889822392.py:1: DeprecationWarning: \n",
      "Pyarrow will become a required dependency of pandas in the next major release of pandas (pandas 3.0),\n",
      "(to allow more performant data types, such as the Arrow string type, and better interoperability with other libraries)\n",
      "but was not found to be installed on your system.\n",
      "If this would cause problems for you,\n",
      "please provide us feedback at https://github.com/pandas-dev/pandas/issues/54466\n",
      "        \n",
      "  import pandas as pd\n"
     ]
    }
   ],
   "source": [
    "# imports\n",
    "import pandas as pd\n",
    "from nltk import word_tokenize\n",
    "from gensim.models import Word2Vec\n",
    "\n",
    "import numpy as np\n",
    "import tensorflow as tf\n",
    "from tensorflow.keras.models import Sequential\n",
    "from tensorflow.keras.layers import Bidirectional, LSTM, Dense, Dropout, Embedding\n",
    "from tensorflow.keras.preprocessing.sequence import pad_sequences\n",
    "\n",
    "from sklearn.metrics import precision_score, recall_score, f1_score\n",
    "from sklearn.metrics import classification_report\n",
    "from sklearn.metrics import confusion_matrix\n",
    "import seaborn as sns\n",
    "import matplotlib.pyplot as plt\n",
    "\n",
    "from sklearn.model_selection import train_test_split"
   ]
  },
  {
   "cell_type": "code",
   "execution_count": 3,
   "metadata": {},
   "outputs": [
    {
     "data": {
      "text/html": [
       "<div>\n",
       "<style scoped>\n",
       "    .dataframe tbody tr th:only-of-type {\n",
       "        vertical-align: middle;\n",
       "    }\n",
       "\n",
       "    .dataframe tbody tr th {\n",
       "        vertical-align: top;\n",
       "    }\n",
       "\n",
       "    .dataframe thead th {\n",
       "        text-align: right;\n",
       "    }\n",
       "</style>\n",
       "<table border=\"1\" class=\"dataframe\">\n",
       "  <thead>\n",
       "    <tr style=\"text-align: right;\">\n",
       "      <th></th>\n",
       "      <th>cyberbullying_type</th>\n",
       "      <th>processed_tweet_text</th>\n",
       "    </tr>\n",
       "  </thead>\n",
       "  <tbody>\n",
       "    <tr>\n",
       "      <th>0</th>\n",
       "      <td>0</td>\n",
       "      <td>game hurt</td>\n",
       "    </tr>\n",
       "    <tr>\n",
       "      <th>1</th>\n",
       "      <td>0</td>\n",
       "      <td>right care fuck</td>\n",
       "    </tr>\n",
       "    <tr>\n",
       "      <th>2</th>\n",
       "      <td>0</td>\n",
       "      <td>man love reddit</td>\n",
       "    </tr>\n",
       "    <tr>\n",
       "      <th>3</th>\n",
       "      <td>0</td>\n",
       "      <td>name nowhere near falcon</td>\n",
       "    </tr>\n",
       "    <tr>\n",
       "      <th>4</th>\n",
       "      <td>0</td>\n",
       "      <td>right considering ’ important document know da...</td>\n",
       "    </tr>\n",
       "  </tbody>\n",
       "</table>\n",
       "</div>"
      ],
      "text/plain": [
       "   cyberbullying_type                               processed_tweet_text\n",
       "0                   0                                          game hurt\n",
       "1                   0                                    right care fuck\n",
       "2                   0                                    man love reddit\n",
       "3                   0                           name nowhere near falcon\n",
       "4                   0  right considering ’ important document know da..."
      ]
     },
     "execution_count": 3,
     "metadata": {},
     "output_type": "execute_result"
    }
   ],
   "source": [
    "# Reading in the data from our two files\n",
    "google_df = pd.read_csv('processed_google_data.csv')\n",
    "tweets_df = pd.read_csv('processed_cyberbullying_tweets.csv')\n",
    "\n",
    "google_df.head()"
   ]
  },
  {
   "cell_type": "code",
   "execution_count": 4,
   "metadata": {},
   "outputs": [
    {
     "data": {
      "text/html": [
       "<div>\n",
       "<style scoped>\n",
       "    .dataframe tbody tr th:only-of-type {\n",
       "        vertical-align: middle;\n",
       "    }\n",
       "\n",
       "    .dataframe tbody tr th {\n",
       "        vertical-align: top;\n",
       "    }\n",
       "\n",
       "    .dataframe thead th {\n",
       "        text-align: right;\n",
       "    }\n",
       "</style>\n",
       "<table border=\"1\" class=\"dataframe\">\n",
       "  <thead>\n",
       "    <tr style=\"text-align: right;\">\n",
       "      <th></th>\n",
       "      <th>cyberbullying_type</th>\n",
       "      <th>processed_tweet_text</th>\n",
       "    </tr>\n",
       "  </thead>\n",
       "  <tbody>\n",
       "    <tr>\n",
       "      <th>0</th>\n",
       "      <td>0</td>\n",
       "      <td>words katandandre food crapilicious mkr</td>\n",
       "    </tr>\n",
       "    <tr>\n",
       "      <th>1</th>\n",
       "      <td>0</td>\n",
       "      <td>aussietv white mkr theblock imacelebrityau tod...</td>\n",
       "    </tr>\n",
       "    <tr>\n",
       "      <th>2</th>\n",
       "      <td>0</td>\n",
       "      <td>xochitlsuckks classy whore red velvet cupcakes</td>\n",
       "    </tr>\n",
       "    <tr>\n",
       "      <th>3</th>\n",
       "      <td>0</td>\n",
       "      <td>meh p thanks heads concerned another angry dud...</td>\n",
       "    </tr>\n",
       "    <tr>\n",
       "      <th>4</th>\n",
       "      <td>0</td>\n",
       "      <td>rudhoeenglish isis account pretending kurdish ...</td>\n",
       "    </tr>\n",
       "  </tbody>\n",
       "</table>\n",
       "</div>"
      ],
      "text/plain": [
       "   cyberbullying_type                               processed_tweet_text\n",
       "0                   0            words katandandre food crapilicious mkr\n",
       "1                   0  aussietv white mkr theblock imacelebrityau tod...\n",
       "2                   0     xochitlsuckks classy whore red velvet cupcakes\n",
       "3                   0  meh p thanks heads concerned another angry dud...\n",
       "4                   0  rudhoeenglish isis account pretending kurdish ..."
      ]
     },
     "execution_count": 4,
     "metadata": {},
     "output_type": "execute_result"
    }
   ],
   "source": [
    "tweets_df.head()"
   ]
  },
  {
   "cell_type": "code",
   "execution_count": 5,
   "metadata": {},
   "outputs": [],
   "source": [
    "# Creating a combined dataframe of the two datasets\n",
    "combined_df = pd.concat([tweets_df, google_df], ignore_index=True)\n",
    "\n",
    "# Putting the combined dataframe into a csv file\n",
    "FILE = 'processed_concat_data.csv'\n",
    "combined_df.to_csv(FILE, index=False)"
   ]
  },
  {
   "cell_type": "code",
   "execution_count": 6,
   "metadata": {},
   "outputs": [
    {
     "name": "stdout",
     "output_type": "stream",
     "text": [
      "(191084, 3)\n",
      "(64422, 3)\n"
     ]
    }
   ],
   "source": [
    "# Load the data\n",
    "concat_df = pd.read_csv(FILE)\n",
    "\n",
    "# Take the text of the data and convert it to a list\n",
    "tweets = concat_df['processed_tweet_text'].astype(str).tolist()\n",
    "\n",
    "# Tokenize the sentences\n",
    "tokenized_sentences = [word_tokenize(sentence.lower()) for sentence in tweets]\n",
    "model_w2v = Word2Vec(sentences=tokenized_sentences, vector_size=100, window=5, min_count=1, workers=4)\n",
    "\n",
    "model_w2v.wv['food']\n",
    "\n",
    "vocab_size = len(model_w2v.wv.key_to_index)\n",
    "vocab_size\n",
    "\n",
    "# Create a new column in the dataframe to store the word embeddings\n",
    "concat_df['word_embeddings'] = concat_df.apply(lambda x : list(), axis=1)\n",
    "\n",
    "# For each row in the dataframe, get the word embeddings for each word in the tweet\n",
    "for index, row in concat_df.iterrows():\n",
    "    for word in word_tokenize(str(row['processed_tweet_text']).lower()):\n",
    "        row['word_embeddings'].append(model_w2v.wv[word])\n",
    "    while len(row['word_embeddings']) < 50:\n",
    "        row['word_embeddings'].append([0]*100)\n",
    "    \n",
    "# Check the first row to see if the word embeddings have been added\n",
    "len(concat_df.loc[0, 'word_embeddings'])\n",
    "len(concat_df.loc[0, 'word_embeddings'][0])\n",
    "\n",
    "model_w2v.wv['words']\n",
    "\n",
    "# Split the data based on Cyberbullying type, where 0 is not cyberbullying and 1 is cyberbullying\n",
    "X = concat_df['word_embeddings'].tolist()\n",
    "y = concat_df['cyberbullying_type'].tolist()\n",
    "\n",
    "data_0 = concat_df[concat_df['cyberbullying_type'] == 0]\n",
    "print(data_0.shape)\n",
    "data_1 = concat_df[concat_df['cyberbullying_type'] == 1]\n",
    "print(data_1.shape)\n"
   ]
  },
  {
   "cell_type": "code",
   "execution_count": 7,
   "metadata": {},
   "outputs": [],
   "source": [
    "# Sample the data to balance the classes as desired and create a new DataFrame\n",
    "sampled_data_0 = data_0.sample(n=56000, random_state=42)\n",
    "sampled_data_1 = data_1.sample(n=64000, random_state=42)\n",
    "\n",
    "balanced_df = pd.concat([sampled_data_0, sampled_data_1])\n",
    "\n",
    "X_dec = balanced_df['word_embeddings'].tolist()\n",
    "y_dec = balanced_df['cyberbullying_type'].tolist()\n",
    "\n",
    "# Shuffle the resulting DataFrame to mix the examples of 0s and 1s\n",
    "balanced_df = balanced_df.sample(frac=1, random_state=42).reset_index(drop=True)\n",
    "\n",
    "# Split the data into training and testing sets\n",
    "X_train, X_test, y_train, y_test = train_test_split(X_dec, y_dec, test_size=0.3, random_state=42)"
   ]
  },
  {
   "cell_type": "code",
   "execution_count": 8,
   "metadata": {},
   "outputs": [],
   "source": [
    "# Padding sequences to ensure uniform input size\n",
    "max_length = max(max(len(seq) for seq in X_train), max(len(seq) for seq in X_test))\n",
    "X_train_padded = pad_sequences(X_train, maxlen=max_length, padding='post', dtype='float32')\n",
    "X_test_padded = pad_sequences(X_test, maxlen=max_length, padding='post', dtype='float32')\n",
    "\n",
    "# Metrics callback to calculate precision, recall and F1 score during the model training\n",
    "class MetricsCallback(tf.keras.callbacks.Callback):\n",
    "    \n",
    "    # Initialize the callback with the test data\n",
    "    def __init__(self, X_test, y_test):\n",
    "        self.X_test = X_test\n",
    "        self.y_test = y_test\n",
    "        self.precision_scores = []\n",
    "        self.recall_scores = []\n",
    "        self.f1_scores = []\n",
    "\n",
    "    # Calculate precision, recall and F1 score at the end of each epoch\n",
    "    def on_epoch_end(self, epoch, logs=None):\n",
    "        y_pred = self.model.predict(self.X_test)\n",
    "        y_pred = np.round(y_pred)\n",
    "        precision = precision_score(self.y_test, y_pred)\n",
    "        recall = recall_score(self.y_test, y_pred)\n",
    "        f1 = f1_score(self.y_test, y_pred)\n",
    "        self.precision_scores.append(precision)\n",
    "        self.recall_scores.append(recall)\n",
    "        self.f1_scores.append(f1)\n",
    "        print(f\"Epoch {epoch}: Precision={precision}, Recall={recall}, F1={f1}\")"
   ]
  },
  {
   "cell_type": "code",
   "execution_count": 15,
   "metadata": {},
   "outputs": [
    {
     "name": "stdout",
     "output_type": "stream",
     "text": [
      "Epoch 1/10\n",
      "1125/1125 [==============================] - 75s 66ms/step\n",
      "Epoch 0: Precision=0.864638783269962, Recall=0.7145326001571092, F1=0.7824516129032258\n",
      "1050/1050 [==============================] - 496s 470ms/step - loss: 0.4486 - accuracy: 0.7726 - val_loss: 0.4315 - val_accuracy: 0.7835\n",
      "Epoch 2/10\n",
      "1125/1125 [==============================] - 72s 64ms/step\n",
      "Epoch 1: Precision=0.869851525128906, Recall=0.7332809636030374, F1=0.7957490338713344\n",
      "1050/1050 [==============================] - 495s 472ms/step - loss: 0.4114 - accuracy: 0.7966 - val_loss: 0.4146 - val_accuracy: 0.7924\n",
      "Epoch 3/10\n",
      "1125/1125 [==============================] - 72s 64ms/step\n",
      "Epoch 2: Precision=0.8228019742908282, Recall=0.7944488085886358, F1=0.8083768517531706\n",
      "1050/1050 [==============================] - 492s 469ms/step - loss: 0.3968 - accuracy: 0.8067 - val_loss: 0.4121 - val_accuracy: 0.7987\n",
      "Epoch 4/10\n",
      "1125/1125 [==============================] - 73s 65ms/step\n",
      "Epoch 3: Precision=0.8557567151816353, Recall=0.7574757789997382, F1=0.8036225240992305\n",
      "1050/1050 [==============================] - 492s 469ms/step - loss: 0.3843 - accuracy: 0.8143 - val_loss: 0.4101 - val_accuracy: 0.7990\n",
      "Epoch 5/10\n",
      "1125/1125 [==============================] - 72s 64ms/step\n",
      "Epoch 4: Precision=0.8540644709180099, Recall=0.7659073055773763, F1=0.807587178000497\n",
      "1050/1050 [==============================] - 484s 461ms/step - loss: 0.3737 - accuracy: 0.8197 - val_loss: 0.4070 - val_accuracy: 0.8033\n",
      "Epoch 6/10\n",
      "1125/1125 [==============================] - 72s 64ms/step\n",
      "Epoch 5: Precision=0.8357442055291818, Recall=0.7836606441476827, F1=0.8088648648648649\n",
      "1050/1050 [==============================] - 534s 508ms/step - loss: 0.3607 - accuracy: 0.8269 - val_loss: 0.4134 - val_accuracy: 0.7965\n",
      "Epoch 7/10\n",
      "1125/1125 [==============================] - 73s 65ms/step\n",
      "Epoch 6: Precision=0.8706805304775543, Recall=0.7323383084577114, F1=0.795539879394698\n",
      "1050/1050 [==============================] - 480s 457ms/step - loss: 0.3478 - accuracy: 0.8361 - val_loss: 0.4270 - val_accuracy: 0.7953\n",
      "Epoch 8/10\n",
      "1125/1125 [==============================] - 67s 60ms/step\n",
      "Epoch 7: Precision=0.848463768115942, Recall=0.766483372610631, F1=0.8053927637914431\n",
      "1050/1050 [==============================] - 470s 447ms/step - loss: 0.3354 - accuracy: 0.8406 - val_loss: 0.4268 - val_accuracy: 0.7981\n",
      "Epoch 9/10\n",
      "1125/1125 [==============================] - 67s 59ms/step\n",
      "Epoch 8: Precision=0.8127017729558084, Recall=0.8041895784236711, F1=0.8084232692813899\n",
      "1050/1050 [==============================] - 475s 452ms/step - loss: 0.3216 - accuracy: 0.8483 - val_loss: 0.4349 - val_accuracy: 0.7912\n",
      "Epoch 10/10\n",
      "1125/1125 [==============================] - 66s 59ms/step\n",
      "Epoch 9: Precision=0.817355771815689, Recall=0.7961246399581042, F1=0.8066005199766542\n",
      "1050/1050 [==============================] - 462s 440ms/step - loss: 0.3057 - accuracy: 0.8565 - val_loss: 0.4460 - val_accuracy: 0.7926\n",
      "1125/1125 [==============================] - 66s 59ms/step - loss: 0.4340 - accuracy: 0.7975\n",
      "Test Accuracy: 0.7975000143051147\n"
     ]
    }
   ],
   "source": [
    "# Create new instance of the MetricsCallback class\n",
    "metrics_callback = MetricsCallback(X_test_padded, y_test)\n",
    "\n",
    "# Building the model architecture with Bidirectional LSTM\n",
    "model = Sequential()\n",
    "model.add(Bidirectional(LSTM(64, return_sequences=True), input_shape=(max_length, 100)))\n",
    "model.add(Bidirectional(LSTM(32)))\n",
    "model.add(Dense(1, activation='sigmoid'))  # Use 'softmax' for multi-class classification\n",
    "\n",
    "# Compiling the model\n",
    "model.compile(optimizer='adam', loss='binary_crossentropy', metrics=['accuracy'])  # Use 'categorical_crossentropy' for multi-class classification\n",
    "\n",
    "# Training the model\n",
    "history = model.fit(X_train_padded, np.array(y_train), epochs=10, batch_size=64, validation_split=0.2, callbacks=[metrics_callback])\n",
    "\n",
    "# Evaluating the model\n",
    "loss, accuracy = model.evaluate(X_test_padded, np.array(y_test))\n",
    "print(f'Test Accuracy: {accuracy}')"
   ]
  },
  {
   "cell_type": "code",
   "execution_count": 46,
   "metadata": {},
   "outputs": [
    {
     "name": "stdout",
     "output_type": "stream",
     "text": [
      "['you', 'are', 'so', 'fricking', 'cool']\n",
      "[[[0. 0. 0. ... 0. 0. 0.]\n",
      "  [0. 0. 0. ... 0. 0. 0.]\n",
      "  [0. 0. 0. ... 0. 0. 0.]\n",
      "  ...\n",
      "  [0. 0. 0. ... 0. 0. 0.]\n",
      "  [0. 0. 0. ... 0. 0. 0.]\n",
      "  [0. 0. 0. ... 0. 0. 0.]]]\n",
      "1/1 [==============================] - 0s 48ms/step\n",
      "[[0.2213641]]\n",
      "Sentence: 'you are so fricking cool'\n",
      "Predicted Sentiment: Positive (Confidence: 0.22)\n"
     ]
    }
   ],
   "source": [
    "# Manually predicting the sentiment of a given sentence\n",
    "def predict_sentiment(sentence, model, word2vec_model):\n",
    "    # Tokenize and convert to embeddings\n",
    "    tokens = word_tokenize(sentence.lower())\n",
    "    print(tokens)\n",
    "    embeddings = [word2vec_model.wv[token] if token in word2vec_model.wv else np.zeros(100) for token in tokens]\n",
    "    \n",
    "    # Pad the sequence\n",
    "    padded_embeddings = pad_sequences([embeddings], maxlen=max_length, padding='post', dtype='float32')\n",
    "    print(padded_embeddings)\n",
    "    # Predict\n",
    "    prediction = model.predict(padded_embeddings)\n",
    "    print(prediction)\n",
    "    # Assuming binary classification with a sigmoid output layer\n",
    "    predicted_label = 'Positive' if prediction[0][0] < 0.50 else 'Negative'\n",
    "    \n",
    "    return predicted_label, prediction[0][0]"
   ]
  },
  {
   "cell_type": "code",
   "execution_count": null,
   "metadata": {},
   "outputs": [],
   "source": [
    "# Example usage of the predict_sentiment function\n",
    "test_sentence = \"you are so fricking cool\"\n",
    "\n",
    "predicted_label, confidence = predict_sentiment(test_sentence, model, model_w2v)\n",
    "\n",
    "print(f\"Sentence: '{test_sentence}'\")\n",
    "print(f\"Predicted Sentiment: {predicted_label} (Confidence: {confidence:.2f})\")"
   ]
  },
  {
   "cell_type": "code",
   "execution_count": 47,
   "metadata": {},
   "outputs": [
    {
     "name": "stdout",
     "output_type": "stream",
     "text": [
      "1125/1125 [==============================] - 72s 64ms/step\n",
      "              precision    recall  f1-score   support\n",
      "\n",
      "           0       0.78      0.80      0.79     16905\n",
      "           1       0.82      0.80      0.81     19095\n",
      "\n",
      "    accuracy                           0.80     36000\n",
      "   macro avg       0.80      0.80      0.80     36000\n",
      "weighted avg       0.80      0.80      0.80     36000\n",
      "\n"
     ]
    },
    {
     "data": {
      "text/plain": [
       "<Axes: >"
      ]
     },
     "execution_count": 47,
     "metadata": {},
     "output_type": "execute_result"
    },
    {
     "data": {
      "image/png": "[encoded data removed]",
      "text/plain": [
       "<Figure size 640x480 with 2 Axes>"
      ]
     },
     "metadata": {},
     "output_type": "display_data"
    }
   ],
   "source": [
    "# Creating a confusion matrix and classification report for the model with the test data\n",
    "y_pred = model.predict(X_test_padded)\n",
    "y_pred = (y_pred > 0.5)\n",
    "y_pred = y_pred.astype(int)\n",
    "\n",
    "print(classification_report(y_test, y_pred))\n",
    "\n",
    "cm = confusion_matrix(y_test, y_pred)\n",
    "sns.heatmap(cm, annot=True)"
   ]
  },
  {
   "cell_type": "code",
   "execution_count": 17,
   "metadata": {},
   "outputs": [
    {
     "name": "stdout",
     "output_type": "stream",
     "text": [
      "[0.864638783269962, 0.869851525128906, 0.8228019742908282, 0.8557567151816353, 0.8540644709180099, 0.8357442055291818, 0.8706805304775543, 0.848463768115942, 0.8127017729558084, 0.817355771815689]\n",
      "[0.7145326001571092, 0.7332809636030374, 0.7944488085886358, 0.7574757789997382, 0.7659073055773763, 0.7836606441476827, 0.7323383084577114, 0.766483372610631, 0.8041895784236711, 0.7961246399581042]\n",
      "[0.7824516129032258, 0.7957490338713344, 0.8083768517531706, 0.8036225240992305, 0.807587178000497, 0.8088648648648649, 0.795539879394698, 0.8053927637914431, 0.8084232692813899, 0.8066005199766542]\n",
      "[0.7835118770599365, 0.7924404740333557, 0.7987499833106995, 0.7989881038665771, 0.8033333420753479, 0.7965475916862488, 0.7952976226806641, 0.7980952262878418, 0.7912499904632568, 0.7925595045089722]\n",
      "10 10 10 10 10\n"
     ]
    },
    {
     "data": {
      "image/png": "[encoded data removed]",
      "text/plain": [
       "<Figure size 640x480 with 1 Axes>"
      ]
     },
     "metadata": {},
     "output_type": "display_data"
    }
   ],
   "source": [
    "# Defining the metrics to plot\n",
    "epochs = range(1, len(history.history['loss']) + 1)\n",
    "accuracy = history.history['accuracy']\n",
    "val_accuracy = history.history['val_accuracy']\n",
    "precision = metrics_callback.precision_scores\n",
    "recall = metrics_callback.recall_scores\n",
    "f1 = metrics_callback.f1_scores\n",
    "\n",
    "# Printing the metrics for debugging purposes\n",
    "print(precision)\n",
    "print(recall)\n",
    "print(f1)\n",
    "print(val_accuracy)\n",
    "print(len(epochs), len(accuracy), len(precision), len(recall), len(f1))\n",
    "\n",
    "# Plotting the model performance metrics\n",
    "data = pd.DataFrame({'Epoch': epochs, 'Accuracy': accuracy, 'Precision': precision, \n",
    "                     'Recall': recall, 'F1-score': f1})\n",
    "data = pd.melt(data, id_vars=['Epoch'], var_name='Metric', value_name='Score')\n",
    "\n",
    "sns.lineplot(x='Epoch', y='Score', hue='Metric', data=data)\n",
    "plt.title('Model Performance Metrics')\n",
    "\n",
    "plt.text(0.98, 0.98, f'0 Samples: {56000}', \n",
    "         horizontalalignment='right', verticalalignment='top', transform=plt.gca().transAxes, fontsize=8)\n",
    "plt.text(0.98, 0.93, f'1 Samples: {64000}', \n",
    "         horizontalalignment='right', verticalalignment='top', transform=plt.gca().transAxes, fontsize=8)\n",
    "\n",
    "plt.show()"
   ]
  },
  {
   "cell_type": "code",
   "execution_count": null,
   "metadata": {},
   "outputs": [],
   "source": [
    "# Saving the model, this can be loaded later to make predictions, though the naming convention should be changed based on the model\n",
    "model.save('cyberbullying_detection_model_epoch10.h5')\n",
    "\n",
    "# Saving Word2Vec model and embeddings\n",
    "model_w2v.save('word2vec_model.model')\n",
    "model_w2v.wv.save_word2vec_format('word2vec_embeddings.txt', binary=False)"
   ]
  }
 ],
 "metadata": {
  "kernelspec": {
   "display_name": "Python 3",
   "language": "python",
   "name": "python3"
  },
  "language_info": {
   "codemirror_mode": {
    "name": "ipython",
    "version": 3
   },
   "file_extension": ".py",
   "mimetype": "text/x-python",
   "name": "python",
   "nbconvert_exporter": "python",
   "pygments_lexer": "ipython3",
   "version": "3.11.7"
  }
 },
 "nbformat": 4,
 "nbformat_minor": 2
}
