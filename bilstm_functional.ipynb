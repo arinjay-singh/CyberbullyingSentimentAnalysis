{
 "cells": [
  {
   "cell_type": "code",
   "execution_count": 1,
   "metadata": {},
   "outputs": [
    {
     "name": "stderr",
     "output_type": "stream",
     "text": [
      "/Users/jackoehling/Library/Python/3.9/lib/python/site-packages/urllib3/__init__.py:34: NotOpenSSLWarning: urllib3 v2.0 only supports OpenSSL 1.1.1+, currently the 'ssl' module is compiled with 'LibreSSL 2.8.3'. See: https://github.com/urllib3/urllib3/issues/3020\n",
      "  warnings.warn(\n"
     ]
    }
   ],
   "source": [
    "import pandas as pd\n",
    "from nltk import word_tokenize\n",
    "from gensim.models import Word2Vec\n",
    "\n",
    "twitter_df = pd.read_csv('processed_cyberbullying_tweets.csv')\n",
    "tweets = twitter_df['processed_tweet_text'].astype(str).tolist()\n",
    "\n",
    "tokenized_sentences = [word_tokenize(sentence.lower()) for sentence in tweets]\n",
    "model_w2v = Word2Vec(sentences=tokenized_sentences, vector_size=100, window=5, min_count=1, workers=4)\n",
    "\n",
    "model_w2v.wv['food']\n",
    "\n",
    "\n",
    "vocab_size = len(model_w2v.wv.key_to_index)\n",
    "vocab_size\n",
    "\n",
    "twitter_df['word_embeddings'] = twitter_df.apply(lambda x : list(), axis=1)\n",
    "\n",
    "for index, row in twitter_df.iterrows():\n",
    "    for word in word_tokenize(str(row['processed_tweet_text']).lower()):\n",
    "        row['word_embeddings'].append(model_w2v.wv[word])\n",
    "    while len(row['word_embeddings']) < 50:\n",
    "        row['word_embeddings'].append([0]*100)\n",
    "    \n",
    "\n",
    "len(twitter_df.loc[0, 'word_embeddings'])\n",
    "len(twitter_df.loc[0, 'word_embeddings'][0])\n",
    "\n",
    "\n",
    "model_w2v.wv['words']\n",
    "\n",
    "from sklearn.model_selection import train_test_split\n",
    "\n",
    "X = twitter_df['word_embeddings'].tolist()\n",
    "y = twitter_df['cyberbullying_type'].tolist()\n",
    "\n",
    "data_0 = twitter_df[twitter_df['cyberbullying_type'] == 0]\n",
    "data_1 = twitter_df[twitter_df['cyberbullying_type'] == 1]\n",
    "\n",
    "sampled_data_0 = data_0.sample(n=7000, random_state=42)\n",
    "sampled_data_1 = data_1.sample(n=10000, random_state=42)\n",
    "\n",
    "balanced_df = pd.concat([sampled_data_0, sampled_data_1])\n",
    "\n",
    "X_dec = balanced_df['word_embeddings'].tolist()\n",
    "y_dec = balanced_df['cyberbullying_type'].tolist()\n",
    "\n",
    "# Shuffle the resulting DataFrame to mix the examples of 0s and 1s\n",
    "balanced_df = balanced_df.sample(frac=1, random_state=42).reset_index(drop=True)\n",
    "\n",
    "X_train, X_test, y_train, y_test = train_test_split(X_dec, y_dec, test_size=0.3, random_state=42)"
   ]
  },
  {
   "cell_type": "code",
   "execution_count": 2,
   "metadata": {},
   "outputs": [],
   "source": [
    "import numpy as np\n",
    "import tensorflow\n",
    "from tensorflow.keras.models import Sequential\n",
    "from tensorflow.keras.layers import Bidirectional, LSTM, Dense, Dropout, Embedding\n",
    "from tensorflow.keras.preprocessing.sequence import pad_sequences\n",
    "\n",
    "# Assuming X_train, X_test are lists of lists of word embeddings, and y_train, y_test are labels\n",
    "# Since the input data is already in the form of embeddings, we don't need an embedding layer\n"
   ]
  },
  {
   "cell_type": "code",
   "execution_count": 3,
   "metadata": {},
   "outputs": [],
   "source": [
    "\n",
    "# Padding sequences to ensure uniform input size\n",
    "max_length = max(max(len(seq) for seq in X_train), max(len(seq) for seq in X_test))\n",
    "X_train_padded = pad_sequences(X_train, maxlen=max_length, padding='post', dtype='float32')\n",
    "X_test_padded = pad_sequences(X_test, maxlen=max_length, padding='post', dtype='float32')\n"
   ]
  },
  {
   "cell_type": "code",
   "execution_count": 4,
   "metadata": {},
   "outputs": [
    {
     "name": "stderr",
     "output_type": "stream",
     "text": [
      "/Users/jackoehling/Library/Python/3.9/lib/python/site-packages/keras/src/layers/core/wrapper.py:27: UserWarning: Do not pass an `input_shape`/`input_dim` argument to a layer. When using Sequential models, prefer using an `Input(shape)` object as the first layer in the model instead.\n",
      "  super().__init__(**kwargs)\n"
     ]
    },
    {
     "name": "stdout",
     "output_type": "stream",
     "text": [
      "Epoch 1/5\n",
      "\u001b[1m149/149\u001b[0m \u001b[32m━━━━━━━━━━━━━━━━━━━━\u001b[0m\u001b[37m\u001b[0m \u001b[1m50s\u001b[0m 313ms/step - accuracy: 0.7307 - loss: 0.4891 - val_accuracy: 0.8122 - val_loss: 0.4014\n",
      "Epoch 2/5\n",
      "\u001b[1m149/149\u001b[0m \u001b[32m━━━━━━━━━━━━━━━━━━━━\u001b[0m\u001b[37m\u001b[0m \u001b[1m50s\u001b[0m 335ms/step - accuracy: 0.8113 - loss: 0.3841 - val_accuracy: 0.8227 - val_loss: 0.3695\n",
      "Epoch 3/5\n",
      "\u001b[1m149/149\u001b[0m \u001b[32m━━━━━━━━━━━━━━━━━━━━\u001b[0m\u001b[37m\u001b[0m \u001b[1m49s\u001b[0m 326ms/step - accuracy: 0.8206 - loss: 0.3656 - val_accuracy: 0.8189 - val_loss: 0.3646\n",
      "Epoch 4/5\n",
      "\u001b[1m149/149\u001b[0m \u001b[32m━━━━━━━━━━━━━━━━━━━━\u001b[0m\u001b[37m\u001b[0m \u001b[1m48s\u001b[0m 324ms/step - accuracy: 0.8209 - loss: 0.3651 - val_accuracy: 0.8185 - val_loss: 0.3597\n",
      "Epoch 5/5\n",
      "\u001b[1m149/149\u001b[0m \u001b[32m━━━━━━━━━━━━━━━━━━━━\u001b[0m\u001b[37m\u001b[0m \u001b[1m48s\u001b[0m 325ms/step - accuracy: 0.8325 - loss: 0.3549 - val_accuracy: 0.8235 - val_loss: 0.3640\n",
      "\u001b[1m160/160\u001b[0m \u001b[32m━━━━━━━━━━━━━━━━━━━━\u001b[0m\u001b[37m\u001b[0m \u001b[1m9s\u001b[0m 55ms/step - accuracy: 0.8210 - loss: 0.3679\n",
      "Test Accuracy: 0.8156862854957581\n"
     ]
    }
   ],
   "source": [
    "\n",
    "model = Sequential()\n",
    "model.add(Bidirectional(LSTM(64, return_sequences=True), input_shape=(max_length, 100)))\n",
    "model.add(Bidirectional(LSTM(32)))\n",
    "model.add(Dense(1, activation='sigmoid'))  # Use 'softmax' for multi-class classification\n",
    "\n",
    "# Compiling the model\n",
    "model.compile(optimizer='adam', loss='binary_crossentropy', metrics=['accuracy'])  # Use 'categorical_crossentropy' for multi-class classification\n",
    "\n",
    "# Training the model\n",
    "model.fit(X_train_padded, np.array(y_train), epochs=5, batch_size=64, validation_split=0.2)\n",
    "\n",
    "# Evaluating the model\n",
    "loss, accuracy = model.evaluate(X_test_padded, np.array(y_test))\n",
    "print(f'Test Accuracy: {accuracy}')"
   ]
  },
  {
   "cell_type": "code",
   "execution_count": 13,
   "metadata": {},
   "outputs": [
    {
     "name": "stdout",
     "output_type": "stream",
     "text": [
      "['u', 'fucking', 'retard']\n",
      "[[[ 0.24201079  1.7237465   0.83498514 ... -0.7772788   0.7335766\n",
      "   -1.3415278 ]\n",
      "  [-0.0582964   0.09134184  0.4940063  ... -1.5268118  -0.4378817\n",
      "    0.568826  ]\n",
      "  [-0.15569425  0.02701895  0.20419548 ... -0.1593883  -0.04941026\n",
      "    0.17396231]\n",
      "  ...\n",
      "  [ 0.          0.          0.         ...  0.          0.\n",
      "    0.        ]\n",
      "  [ 0.          0.          0.         ...  0.          0.\n",
      "    0.        ]\n",
      "  [ 0.          0.          0.         ...  0.          0.\n",
      "    0.        ]]]\n",
      "\u001b[1m1/1\u001b[0m \u001b[32m━━━━━━━━━━━━━━━━━━━━\u001b[0m\u001b[37m\u001b[0m \u001b[1m0s\u001b[0m 38ms/step\n",
      "[[0.37599513]]\n",
      "Sentence: 'u fucking retard'\n",
      "Predicted Sentiment: Positive (Confidence: 0.38)\n"
     ]
    }
   ],
   "source": [
    "def predict_sentiment(sentence, model, word2vec_model):\n",
    "    # Tokenize and convert to embeddings\n",
    "    tokens = word_tokenize(sentence.lower())\n",
    "    print(tokens)\n",
    "    embeddings = [word2vec_model.wv[token] if token in word2vec_model.wv else np.zeros(100) for token in tokens]\n",
    "    \n",
    "    # Pad the sequence\n",
    "    padded_embeddings = pad_sequences([embeddings], maxlen=max_length, padding='post', dtype='float32')\n",
    "    print(padded_embeddings)\n",
    "    # Predict\n",
    "    prediction = model.predict(padded_embeddings)\n",
    "    print(prediction)\n",
    "    # Assuming binary classification with a sigmoid output layer\n",
    "    predicted_label = 'Positive' if prediction[0][0] < 0.5 else 'Negative'\n",
    "    \n",
    "    return predicted_label, prediction[0][0]\n",
    "\n",
    "# Example usage\n",
    "test_sentence = \"\"\n",
    "predicted_label, confidence = predict_sentiment(test_sentence, model, model_w2v)\n",
    "\n",
    "print(f\"Sentence: '{test_sentence}'\")\n",
    "print(f\"Predicted Sentiment: {predicted_label} (Confidence: {confidence:.2f})\")"
   ]
  }
 ],
 "metadata": {
  "kernelspec": {
   "display_name": "Python 3",
   "language": "python",
   "name": "python3"
  },
  "language_info": {
   "codemirror_mode": {
    "name": "ipython",
    "version": 3
   },
   "file_extension": ".py",
   "mimetype": "text/x-python",
   "name": "python",
   "nbconvert_exporter": "python",
   "pygments_lexer": "ipython3",
   "version": "3.9.6"
  }
 },
 "nbformat": 4,
 "nbformat_minor": 2
}
