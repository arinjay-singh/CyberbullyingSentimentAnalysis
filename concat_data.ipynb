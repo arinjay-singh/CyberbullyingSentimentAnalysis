{
 "cells": [
  {
   "cell_type": "code",
   "execution_count": 8,
   "metadata": {},
   "outputs": [
    {
     "name": "stderr",
     "output_type": "stream",
     "text": [
      "/Users/jackoehling/Library/Python/3.9/lib/python/site-packages/urllib3/__init__.py:34: NotOpenSSLWarning: urllib3 v2.0 only supports OpenSSL 1.1.1+, currently the 'ssl' module is compiled with 'LibreSSL 2.8.3'. See: https://github.com/urllib3/urllib3/issues/3020\n",
      "  warnings.warn(\n"
     ]
    }
   ],
   "source": [
    "import pandas as pd\n",
    "from nltk import word_tokenize\n",
    "from gensim.models import Word2Vec"
   ]
  },
  {
   "cell_type": "code",
   "execution_count": 2,
   "metadata": {},
   "outputs": [
    {
     "data": {
      "text/html": [
       "<div>\n",
       "<style scoped>\n",
       "    .dataframe tbody tr th:only-of-type {\n",
       "        vertical-align: middle;\n",
       "    }\n",
       "\n",
       "    .dataframe tbody tr th {\n",
       "        vertical-align: top;\n",
       "    }\n",
       "\n",
       "    .dataframe thead th {\n",
       "        text-align: right;\n",
       "    }\n",
       "</style>\n",
       "<table border=\"1\" class=\"dataframe\">\n",
       "  <thead>\n",
       "    <tr style=\"text-align: right;\">\n",
       "      <th></th>\n",
       "      <th>cyberbullying_type</th>\n",
       "      <th>processed_tweet_text</th>\n",
       "    </tr>\n",
       "  </thead>\n",
       "  <tbody>\n",
       "    <tr>\n",
       "      <th>0</th>\n",
       "      <td>0</td>\n",
       "      <td>game hurt</td>\n",
       "    </tr>\n",
       "    <tr>\n",
       "      <th>1</th>\n",
       "      <td>0</td>\n",
       "      <td>right care fuck</td>\n",
       "    </tr>\n",
       "    <tr>\n",
       "      <th>2</th>\n",
       "      <td>0</td>\n",
       "      <td>man love reddit</td>\n",
       "    </tr>\n",
       "    <tr>\n",
       "      <th>3</th>\n",
       "      <td>0</td>\n",
       "      <td>name nowhere near falcon</td>\n",
       "    </tr>\n",
       "    <tr>\n",
       "      <th>4</th>\n",
       "      <td>0</td>\n",
       "      <td>right considering ’ important document know da...</td>\n",
       "    </tr>\n",
       "  </tbody>\n",
       "</table>\n",
       "</div>"
      ],
      "text/plain": [
       "   cyberbullying_type                               processed_tweet_text\n",
       "0                   0                                          game hurt\n",
       "1                   0                                    right care fuck\n",
       "2                   0                                    man love reddit\n",
       "3                   0                           name nowhere near falcon\n",
       "4                   0  right considering ’ important document know da..."
      ]
     },
     "execution_count": 2,
     "metadata": {},
     "output_type": "execute_result"
    }
   ],
   "source": [
    "google_df = pd.read_csv('processed_google_data.csv')\n",
    "tweets_df = pd.read_csv('processed_cyberbullying_tweets.csv')\n",
    "\n",
    "google_df.head()\n"
   ]
  },
  {
   "cell_type": "code",
   "execution_count": 3,
   "metadata": {},
   "outputs": [
    {
     "data": {
      "text/html": [
       "<div>\n",
       "<style scoped>\n",
       "    .dataframe tbody tr th:only-of-type {\n",
       "        vertical-align: middle;\n",
       "    }\n",
       "\n",
       "    .dataframe tbody tr th {\n",
       "        vertical-align: top;\n",
       "    }\n",
       "\n",
       "    .dataframe thead th {\n",
       "        text-align: right;\n",
       "    }\n",
       "</style>\n",
       "<table border=\"1\" class=\"dataframe\">\n",
       "  <thead>\n",
       "    <tr style=\"text-align: right;\">\n",
       "      <th></th>\n",
       "      <th>cyberbullying_type</th>\n",
       "      <th>processed_tweet_text</th>\n",
       "    </tr>\n",
       "  </thead>\n",
       "  <tbody>\n",
       "    <tr>\n",
       "      <th>0</th>\n",
       "      <td>0</td>\n",
       "      <td>words katandandre food crapilicious mkr</td>\n",
       "    </tr>\n",
       "    <tr>\n",
       "      <th>1</th>\n",
       "      <td>0</td>\n",
       "      <td>aussietv white mkr theblock imacelebrityau tod...</td>\n",
       "    </tr>\n",
       "    <tr>\n",
       "      <th>2</th>\n",
       "      <td>0</td>\n",
       "      <td>xochitlsuckks classy whore red velvet cupcakes</td>\n",
       "    </tr>\n",
       "    <tr>\n",
       "      <th>3</th>\n",
       "      <td>0</td>\n",
       "      <td>meh p thanks heads concerned another angry dud...</td>\n",
       "    </tr>\n",
       "    <tr>\n",
       "      <th>4</th>\n",
       "      <td>0</td>\n",
       "      <td>rudhoeenglish isis account pretending kurdish ...</td>\n",
       "    </tr>\n",
       "  </tbody>\n",
       "</table>\n",
       "</div>"
      ],
      "text/plain": [
       "   cyberbullying_type                               processed_tweet_text\n",
       "0                   0            words katandandre food crapilicious mkr\n",
       "1                   0  aussietv white mkr theblock imacelebrityau tod...\n",
       "2                   0     xochitlsuckks classy whore red velvet cupcakes\n",
       "3                   0  meh p thanks heads concerned another angry dud...\n",
       "4                   0  rudhoeenglish isis account pretending kurdish ..."
      ]
     },
     "execution_count": 3,
     "metadata": {},
     "output_type": "execute_result"
    }
   ],
   "source": [
    "tweets_df.head()"
   ]
  },
  {
   "cell_type": "code",
   "execution_count": 5,
   "metadata": {},
   "outputs": [],
   "source": [
    "\n",
    "combined_df = pd.concat([tweets_df, google_df], ignore_index=True)\n",
    "\n",
    "FILE = 'processed_concat_data.csv'\n",
    "combined_df.to_csv(FILE, index=False)\n",
    "\n"
   ]
  },
  {
   "cell_type": "code",
   "execution_count": 9,
   "metadata": {},
   "outputs": [
    {
     "name": "stdout",
     "output_type": "stream",
     "text": [
      "191084\n"
     ]
    }
   ],
   "source": [
    "concat_df = pd.read_csv(FILE)\n",
    "\n",
    "tweets = concat_df['processed_tweet_text'].astype(str).tolist()\n",
    "\n",
    "tokenized_sentences = [word_tokenize(sentence.lower()) for sentence in tweets]\n",
    "model_w2v = Word2Vec(sentences=tokenized_sentences, vector_size=100, window=5, min_count=1, workers=4)\n",
    "\n",
    "model_w2v.wv['food']\n",
    "\n",
    "\n",
    "vocab_size = len(model_w2v.wv.key_to_index)\n",
    "vocab_size\n",
    "\n",
    "concat_df['word_embeddings'] = concat_df.apply(lambda x : list(), axis=1)\n",
    "\n",
    "for index, row in concat_df.iterrows():\n",
    "    for word in word_tokenize(str(row['processed_tweet_text']).lower()):\n",
    "        row['word_embeddings'].append(model_w2v.wv[word])\n",
    "    while len(row['word_embeddings']) < 50:\n",
    "        row['word_embeddings'].append([0]*100)\n",
    "    \n",
    "\n",
    "len(concat_df.loc[0, 'word_embeddings'])\n",
    "len(concat_df.loc[0, 'word_embeddings'][0])\n",
    "\n",
    "\n",
    "model_w2v.wv['words']\n",
    "\n",
    "from sklearn.model_selection import train_test_split\n",
    "\n",
    "X = concat_df['word_embeddings'].tolist()\n",
    "y = concat_df['cyberbullying_type'].tolist()\n",
    "\n",
    "data_0 = concat_df[concat_df['cyberbullying_type'] == 0]\n",
    "data_1 = concat_df[concat_df['cyberbullying_type'] == 1]\n"
   ]
  },
  {
   "cell_type": "code",
   "execution_count": 11,
   "metadata": {},
   "outputs": [],
   "source": [
    "sampled_data_0 = data_0.sample(n=40000, random_state=42)\n",
    "sampled_data_1 = data_1.sample(n=40000, random_state=42)\n",
    "\n",
    "balanced_df = pd.concat([sampled_data_0, sampled_data_1])\n",
    "\n",
    "X_dec = balanced_df['word_embeddings'].tolist()\n",
    "y_dec = balanced_df['cyberbullying_type'].tolist()\n",
    "\n",
    "# Shuffle the resulting DataFrame to mix the examples of 0s and 1s\n",
    "balanced_df = balanced_df.sample(frac=1, random_state=42).reset_index(drop=True)\n",
    "\n",
    "X_train, X_test, y_train, y_test = train_test_split(X_dec, y_dec, test_size=0.3, random_state=42)"
   ]
  },
  {
   "cell_type": "code",
   "execution_count": 12,
   "metadata": {},
   "outputs": [],
   "source": [
    "import numpy as np\n",
    "import tensorflow\n",
    "from tensorflow.keras.models import Sequential\n",
    "from tensorflow.keras.layers import Bidirectional, LSTM, Dense, Dropout, Embedding\n",
    "from tensorflow.keras.preprocessing.sequence import pad_sequences\n"
   ]
  },
  {
   "cell_type": "code",
   "execution_count": 13,
   "metadata": {},
   "outputs": [],
   "source": [
    "# Padding sequences to ensure uniform input size\n",
    "max_length = max(max(len(seq) for seq in X_train), max(len(seq) for seq in X_test))\n",
    "X_train_padded = pad_sequences(X_train, maxlen=max_length, padding='post', dtype='float32')\n",
    "X_test_padded = pad_sequences(X_test, maxlen=max_length, padding='post', dtype='float32')\n"
   ]
  },
  {
   "cell_type": "code",
   "execution_count": 14,
   "metadata": {},
   "outputs": [
    {
     "name": "stderr",
     "output_type": "stream",
     "text": [
      "/Users/jackoehling/Library/Python/3.9/lib/python/site-packages/keras/src/layers/core/wrapper.py:27: UserWarning: Do not pass an `input_shape`/`input_dim` argument to a layer. When using Sequential models, prefer using an `Input(shape)` object as the first layer in the model instead.\n",
      "  super().__init__(**kwargs)\n"
     ]
    },
    {
     "name": "stdout",
     "output_type": "stream",
     "text": [
      "\u001b[1m700/700\u001b[0m \u001b[32m━━━━━━━━━━━━━━━━━━━━\u001b[0m\u001b[37m\u001b[0m \u001b[1m217s\u001b[0m 307ms/step - accuracy: 0.7563 - loss: 0.4820 - val_accuracy: 0.7893 - val_loss: 0.4314\n",
      "\u001b[1m750/750\u001b[0m \u001b[32m━━━━━━━━━━━━━━━━━━━━\u001b[0m\u001b[37m\u001b[0m \u001b[1m53s\u001b[0m 71ms/step - accuracy: 0.7965 - loss: 0.4211\n",
      "Test Accuracy: 0.7952916622161865\n"
     ]
    }
   ],
   "source": [
    "model = Sequential()\n",
    "model.add(Bidirectional(LSTM(64, return_sequences=True), input_shape=(max_length, 100)))\n",
    "model.add(Bidirectional(LSTM(32)))\n",
    "model.add(Dense(1, activation='sigmoid'))  # Use 'softmax' for multi-class classification\n",
    "\n",
    "# Compiling the model\n",
    "model.compile(optimizer='adam', loss='binary_crossentropy', metrics=['accuracy'])  # Use 'categorical_crossentropy' for multi-class classification\n",
    "\n",
    "# Training the model\n",
    "model.fit(X_train_padded, np.array(y_train), epochs=1, batch_size=64, validation_split=0.2)\n",
    "\n",
    "# Evaluating the model\n",
    "loss, accuracy = model.evaluate(X_test_padded, np.array(y_test))\n",
    "print(f'Test Accuracy: {accuracy}')"
   ]
  },
  {
   "cell_type": "code",
   "execution_count": 43,
   "metadata": {},
   "outputs": [
    {
     "name": "stdout",
     "output_type": "stream",
     "text": [
      "['ur', 'so', 'freaking', 'ugly']\n",
      "[[[ 2.3538692   0.5744179   0.1304177  ...  0.21989945 -2.1070566\n",
      "    0.55537146]\n",
      "  [ 0.          0.          0.         ...  0.          0.\n",
      "    0.        ]\n",
      "  [ 0.20748849  0.2607715   0.38720724 ... -0.47075617  0.0126165\n",
      "    0.01858659]\n",
      "  ...\n",
      "  [ 0.          0.          0.         ...  0.          0.\n",
      "    0.        ]\n",
      "  [ 0.          0.          0.         ...  0.          0.\n",
      "    0.        ]\n",
      "  [ 0.          0.          0.         ...  0.          0.\n",
      "    0.        ]]]\n",
      "\u001b[1m1/1\u001b[0m \u001b[32m━━━━━━━━━━━━━━━━━━━━\u001b[0m\u001b[37m\u001b[0m \u001b[1m0s\u001b[0m 40ms/step\n",
      "[[0.7973456]]\n",
      "Sentence: 'ur so freaking ugly'\n",
      "Predicted Sentiment: Negative (Confidence: 0.80)\n"
     ]
    }
   ],
   "source": [
    "def predict_sentiment(sentence, model, word2vec_model):\n",
    "    # Tokenize and convert to embeddings\n",
    "    tokens = word_tokenize(sentence.lower())\n",
    "    print(tokens)\n",
    "    embeddings = [word2vec_model.wv[token] if token in word2vec_model.wv else np.zeros(100) for token in tokens]\n",
    "    \n",
    "    # Pad the sequence\n",
    "    padded_embeddings = pad_sequences([embeddings], maxlen=max_length, padding='post', dtype='float32')\n",
    "    print(padded_embeddings)\n",
    "    # Predict\n",
    "    prediction = model.predict(padded_embeddings)\n",
    "    print(prediction)\n",
    "    # Assuming binary classification with a sigmoid output layer\n",
    "    predicted_label = 'Positive' if prediction[0][0] < 0.50 else 'Negative'\n",
    "    \n",
    "    return predicted_label, prediction[0][0]\n",
    "\n",
    "# Example usage\n",
    "test_sentence = \"ur so freaking ugly\"\n",
    "predicted_label, confidence = predict_sentiment(test_sentence, model, model_w2v)\n",
    "\n",
    "print(f\"Sentence: '{test_sentence}'\")\n",
    "print(f\"Predicted Sentiment: {predicted_label} (Confidence: {confidence:.2f})\")"
   ]
  }
 ],
 "metadata": {
  "kernelspec": {
   "display_name": "Python 3",
   "language": "python",
   "name": "python3"
  },
  "language_info": {
   "codemirror_mode": {
    "name": "ipython",
    "version": 3
   },
   "file_extension": ".py",
   "mimetype": "text/x-python",
   "name": "python",
   "nbconvert_exporter": "python",
   "pygments_lexer": "ipython3",
   "version": "3.9.6"
  }
 },
 "nbformat": 4,
 "nbformat_minor": 2
}
