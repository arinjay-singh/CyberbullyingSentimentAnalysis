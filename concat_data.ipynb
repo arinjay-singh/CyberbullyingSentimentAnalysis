{
 "cells": [
  {
   "cell_type": "code",
   "execution_count": 26,
   "metadata": {},
   "outputs": [],
   "source": [
    "import pandas as pd\n",
    "from nltk import word_tokenize\n",
    "from gensim.models import Word2Vec\n",
    "\n",
    "import numpy as np\n",
    "import tensorflow as tf\n",
    "from tensorflow.keras.models import Sequential\n",
    "from tensorflow.keras.layers import Bidirectional, LSTM, Dense, Dropout, Embedding\n",
    "from tensorflow.keras.preprocessing.sequence import pad_sequences\n",
    "\n",
    "from sklearn.metrics import precision_score, recall_score, f1_score\n",
    "from sklearn.metrics import classification_report\n",
    "from sklearn.metrics import confusion_matrix\n",
    "import seaborn as sns\n",
    "import matplotlib.pyplot as plt\n",
    "\n",
    "from sklearn.model_selection import train_test_split"
   ]
  },
  {
   "cell_type": "code",
   "execution_count": 14,
   "metadata": {},
   "outputs": [
    {
     "data": {
      "text/html": [
       "<div>\n",
       "<style scoped>\n",
       "    .dataframe tbody tr th:only-of-type {\n",
       "        vertical-align: middle;\n",
       "    }\n",
       "\n",
       "    .dataframe tbody tr th {\n",
       "        vertical-align: top;\n",
       "    }\n",
       "\n",
       "    .dataframe thead th {\n",
       "        text-align: right;\n",
       "    }\n",
       "</style>\n",
       "<table border=\"1\" class=\"dataframe\">\n",
       "  <thead>\n",
       "    <tr style=\"text-align: right;\">\n",
       "      <th></th>\n",
       "      <th>cyberbullying_type</th>\n",
       "      <th>processed_tweet_text</th>\n",
       "    </tr>\n",
       "  </thead>\n",
       "  <tbody>\n",
       "    <tr>\n",
       "      <th>0</th>\n",
       "      <td>0</td>\n",
       "      <td>game hurt</td>\n",
       "    </tr>\n",
       "    <tr>\n",
       "      <th>1</th>\n",
       "      <td>0</td>\n",
       "      <td>right care fuck</td>\n",
       "    </tr>\n",
       "    <tr>\n",
       "      <th>2</th>\n",
       "      <td>0</td>\n",
       "      <td>man love reddit</td>\n",
       "    </tr>\n",
       "    <tr>\n",
       "      <th>3</th>\n",
       "      <td>0</td>\n",
       "      <td>name nowhere near falcon</td>\n",
       "    </tr>\n",
       "    <tr>\n",
       "      <th>4</th>\n",
       "      <td>0</td>\n",
       "      <td>right considering ’ important document know da...</td>\n",
       "    </tr>\n",
       "  </tbody>\n",
       "</table>\n",
       "</div>"
      ],
      "text/plain": [
       "   cyberbullying_type                               processed_tweet_text\n",
       "0                   0                                          game hurt\n",
       "1                   0                                    right care fuck\n",
       "2                   0                                    man love reddit\n",
       "3                   0                           name nowhere near falcon\n",
       "4                   0  right considering ’ important document know da..."
      ]
     },
     "execution_count": 14,
     "metadata": {},
     "output_type": "execute_result"
    }
   ],
   "source": [
    "google_df = pd.read_csv('processed_google_data.csv')\n",
    "tweets_df = pd.read_csv('processed_cyberbullying_tweets.csv')\n",
    "\n",
    "google_df.head()\n"
   ]
  },
  {
   "cell_type": "code",
   "execution_count": 15,
   "metadata": {},
   "outputs": [
    {
     "data": {
      "text/html": [
       "<div>\n",
       "<style scoped>\n",
       "    .dataframe tbody tr th:only-of-type {\n",
       "        vertical-align: middle;\n",
       "    }\n",
       "\n",
       "    .dataframe tbody tr th {\n",
       "        vertical-align: top;\n",
       "    }\n",
       "\n",
       "    .dataframe thead th {\n",
       "        text-align: right;\n",
       "    }\n",
       "</style>\n",
       "<table border=\"1\" class=\"dataframe\">\n",
       "  <thead>\n",
       "    <tr style=\"text-align: right;\">\n",
       "      <th></th>\n",
       "      <th>cyberbullying_type</th>\n",
       "      <th>processed_tweet_text</th>\n",
       "    </tr>\n",
       "  </thead>\n",
       "  <tbody>\n",
       "    <tr>\n",
       "      <th>0</th>\n",
       "      <td>0</td>\n",
       "      <td>words katandandre food crapilicious mkr</td>\n",
       "    </tr>\n",
       "    <tr>\n",
       "      <th>1</th>\n",
       "      <td>0</td>\n",
       "      <td>aussietv white mkr theblock imacelebrityau tod...</td>\n",
       "    </tr>\n",
       "    <tr>\n",
       "      <th>2</th>\n",
       "      <td>0</td>\n",
       "      <td>xochitlsuckks classy whore red velvet cupcakes</td>\n",
       "    </tr>\n",
       "    <tr>\n",
       "      <th>3</th>\n",
       "      <td>0</td>\n",
       "      <td>meh p thanks heads concerned another angry dud...</td>\n",
       "    </tr>\n",
       "    <tr>\n",
       "      <th>4</th>\n",
       "      <td>0</td>\n",
       "      <td>rudhoeenglish isis account pretending kurdish ...</td>\n",
       "    </tr>\n",
       "  </tbody>\n",
       "</table>\n",
       "</div>"
      ],
      "text/plain": [
       "   cyberbullying_type                               processed_tweet_text\n",
       "0                   0            words katandandre food crapilicious mkr\n",
       "1                   0  aussietv white mkr theblock imacelebrityau tod...\n",
       "2                   0     xochitlsuckks classy whore red velvet cupcakes\n",
       "3                   0  meh p thanks heads concerned another angry dud...\n",
       "4                   0  rudhoeenglish isis account pretending kurdish ..."
      ]
     },
     "execution_count": 15,
     "metadata": {},
     "output_type": "execute_result"
    }
   ],
   "source": [
    "tweets_df.head()"
   ]
  },
  {
   "cell_type": "code",
   "execution_count": 16,
   "metadata": {},
   "outputs": [],
   "source": [
    "\n",
    "combined_df = pd.concat([tweets_df, google_df], ignore_index=True)\n",
    "\n",
    "FILE = 'processed_concat_data.csv'\n",
    "combined_df.to_csv(FILE, index=False)\n",
    "\n"
   ]
  },
  {
   "cell_type": "code",
   "execution_count": 17,
   "metadata": {},
   "outputs": [],
   "source": [
    "concat_df = pd.read_csv(FILE)\n",
    "\n",
    "tweets = concat_df['processed_tweet_text'].astype(str).tolist()\n",
    "\n",
    "tokenized_sentences = [word_tokenize(sentence.lower()) for sentence in tweets]\n",
    "model_w2v = Word2Vec(sentences=tokenized_sentences, vector_size=100, window=5, min_count=1, workers=4)\n",
    "\n",
    "model_w2v.wv['food']\n",
    "\n",
    "\n",
    "vocab_size = len(model_w2v.wv.key_to_index)\n",
    "vocab_size\n",
    "\n",
    "concat_df['word_embeddings'] = concat_df.apply(lambda x : list(), axis=1)\n",
    "\n",
    "for index, row in concat_df.iterrows():\n",
    "    for word in word_tokenize(str(row['processed_tweet_text']).lower()):\n",
    "        row['word_embeddings'].append(model_w2v.wv[word])\n",
    "    while len(row['word_embeddings']) < 50:\n",
    "        row['word_embeddings'].append([0]*100)\n",
    "    \n",
    "\n",
    "len(concat_df.loc[0, 'word_embeddings'])\n",
    "len(concat_df.loc[0, 'word_embeddings'][0])\n",
    "\n",
    "\n",
    "model_w2v.wv['words']\n",
    "\n",
    "X = concat_df['word_embeddings'].tolist()\n",
    "y = concat_df['cyberbullying_type'].tolist()\n",
    "\n",
    "data_0 = concat_df[concat_df['cyberbullying_type'] == 0]\n",
    "data_1 = concat_df[concat_df['cyberbullying_type'] == 1]\n"
   ]
  },
  {
   "cell_type": "code",
   "execution_count": 18,
   "metadata": {},
   "outputs": [],
   "source": [
    "sampled_data_0 = data_0.sample(n=40000, random_state=42)\n",
    "sampled_data_1 = data_1.sample(n=60000, random_state=42)\n",
    "\n",
    "balanced_df = pd.concat([sampled_data_0, sampled_data_1])\n",
    "\n",
    "X_dec = balanced_df['word_embeddings'].tolist()\n",
    "y_dec = balanced_df['cyberbullying_type'].tolist()\n",
    "\n",
    "# Shuffle the resulting DataFrame to mix the examples of 0s and 1s\n",
    "balanced_df = balanced_df.sample(frac=1, random_state=42).reset_index(drop=True)\n",
    "\n",
    "X_train, X_test, y_train, y_test = train_test_split(X_dec, y_dec, test_size=0.3, random_state=42)"
   ]
  },
  {
   "cell_type": "code",
   "execution_count": 19,
   "metadata": {},
   "outputs": [],
   "source": [
    "# Padding sequences to ensure uniform input size\n",
    "max_length = max(max(len(seq) for seq in X_train), max(len(seq) for seq in X_test))\n",
    "X_train_padded = pad_sequences(X_train, maxlen=max_length, padding='post', dtype='float32')\n",
    "X_test_padded = pad_sequences(X_test, maxlen=max_length, padding='post', dtype='float32')\n",
    "\n",
    "class MetricsCallback(tf.keras.callbacks.Callback):\n",
    "    def __init__(self, X_test, y_test):\n",
    "        self.X_test = X_test\n",
    "        self.y_test = y_test\n",
    "        self.precision_scores = []\n",
    "        self.recall_scores = []\n",
    "        self.f1_scores = []\n",
    "\n",
    "    def on_epoch_end(self, epoch, logs=None):\n",
    "        y_pred = self.model.predict(self.X_test)\n",
    "        y_pred = np.round(y_pred)\n",
    "        precision = precision_score(self.y_test, y_pred)\n",
    "        recall = recall_score(self.y_test, y_pred)\n",
    "        f1 = f1_score(self.y_test, y_pred)\n",
    "        self.precision_scores.append(precision)\n",
    "        self.recall_scores.append(recall)\n",
    "        self.f1_scores.append(f1)\n",
    "\n",
    "metrics_callback = MetricsCallback(X_test_padded, y_test)"
   ]
  },
  {
   "cell_type": "code",
   "execution_count": 20,
   "metadata": {},
   "outputs": [
    {
     "name": "stdout",
     "output_type": "stream",
     "text": [
      "Epoch 1/2\n",
      "938/938 [==============================] - 61s 64ms/step\n",
      "875/875 [==============================] - 386s 439ms/step - loss: 0.4473 - accuracy: 0.7640 - val_loss: 0.4255 - val_accuracy: 0.7771\n",
      "Epoch 2/2\n",
      "938/938 [==============================] - 60s 63ms/step\n",
      "875/875 [==============================] - 387s 443ms/step - loss: 0.4096 - accuracy: 0.7914 - val_loss: 0.4190 - val_accuracy: 0.7859\n",
      "938/938 [==============================] - 61s 65ms/step - loss: 0.4153 - accuracy: 0.7913\n",
      "Test Accuracy: 0.7912999987602234\n"
     ]
    }
   ],
   "source": [
    "model = Sequential()\n",
    "model.add(Bidirectional(LSTM(64, return_sequences=True), input_shape=(max_length, 100)))\n",
    "model.add(Bidirectional(LSTM(32)))\n",
    "model.add(Dense(1, activation='sigmoid'))  # Use 'softmax' for multi-class classification\n",
    "\n",
    "# Compiling the model\n",
    "model.compile(optimizer='adam', loss='binary_crossentropy', metrics=['accuracy'])  # Use 'categorical_crossentropy' for multi-class classification\n",
    "\n",
    "# Training the model\n",
    "history = model.fit(X_train_padded, np.array(y_train), epochs=2, batch_size=64, validation_split=0.2, callbacks=[metrics_callback])\n",
    "\n",
    "# Evaluating the model\n",
    "loss, accuracy = model.evaluate(X_test_padded, np.array(y_test))\n",
    "print(f'Test Accuracy: {accuracy}')"
   ]
  },
  {
   "cell_type": "code",
   "execution_count": 34,
   "metadata": {},
   "outputs": [
    {
     "name": "stdout",
     "output_type": "stream",
     "text": [
      "['i', 'love', 'you', ',', 'but', 'i', 'hate', 'you', '!']\n",
      "[[[ 0.          0.          0.         ...  0.          0.\n",
      "    0.        ]\n",
      "  [ 1.9381169   0.9373925   0.2216093  ... -2.0377886   0.63188285\n",
      "    0.52488697]\n",
      "  [ 0.          0.          0.         ...  0.          0.\n",
      "    0.        ]\n",
      "  ...\n",
      "  [ 0.          0.          0.         ...  0.          0.\n",
      "    0.        ]\n",
      "  [ 0.          0.          0.         ...  0.          0.\n",
      "    0.        ]\n",
      "  [ 0.          0.          0.         ...  0.          0.\n",
      "    0.        ]]]\n",
      "1/1 [==============================] - 0s 70ms/step\n",
      "[[0.68095374]]\n",
      "Sentence: 'I love you, but I hate you!'\n",
      "Predicted Sentiment: Negative (Confidence: 0.68)\n"
     ]
    }
   ],
   "source": [
    "def predict_sentiment(sentence, model, word2vec_model):\n",
    "    # Tokenize and convert to embeddings\n",
    "    tokens = word_tokenize(sentence.lower())\n",
    "    print(tokens)\n",
    "    embeddings = [word2vec_model.wv[token] if token in word2vec_model.wv else np.zeros(100) for token in tokens]\n",
    "    \n",
    "    # Pad the sequence\n",
    "    padded_embeddings = pad_sequences([embeddings], maxlen=max_length, padding='post', dtype='float32')\n",
    "    print(padded_embeddings)\n",
    "    # Predict\n",
    "    prediction = model.predict(padded_embeddings)\n",
    "    print(prediction)\n",
    "    # Assuming binary classification with a sigmoid output layer\n",
    "    predicted_label = 'Positive' if prediction[0][0] < 0.50 else 'Negative'\n",
    "    \n",
    "    return predicted_label, prediction[0][0]\n",
    "\n",
    "# Example usage\n",
    "test_sentence = \"I love you, but I hate you!\"\n",
    "\n",
    "predicted_label, confidence = predict_sentiment(test_sentence, model, model_w2v)\n",
    "\n",
    "print(f\"Sentence: '{test_sentence}'\")\n",
    "print(f\"Predicted Sentiment: {predicted_label} (Confidence: {confidence:.2f})\")"
   ]
  },
  {
   "cell_type": "code",
   "execution_count": 36,
   "metadata": {},
   "outputs": [
    {
     "name": "stdout",
     "output_type": "stream",
     "text": [
      "938/938 [==============================] - 59s 62ms/step\n",
      "              precision    recall  f1-score   support\n",
      "\n",
      "           0       0.75      0.72      0.73     12038\n",
      "           1       0.82      0.84      0.83     17962\n",
      "\n",
      "    accuracy                           0.79     30000\n",
      "   macro avg       0.78      0.78      0.78     30000\n",
      "weighted avg       0.79      0.79      0.79     30000\n",
      "\n"
     ]
    },
    {
     "data": {
      "text/plain": [
       "<Axes: >"
      ]
     },
     "execution_count": 36,
     "metadata": {},
     "output_type": "execute_result"
    },
    {
     "data": {
      "image/png": "[encoded data removed]",
      "text/plain": [
       "<Figure size 640x480 with 2 Axes>"
      ]
     },
     "metadata": {},
     "output_type": "display_data"
    }
   ],
   "source": [
    "y_pred = model.predict(X_test_padded)\n",
    "y_pred = (y_pred > 0.5)\n",
    "y_pred = y_pred.astype(int)\n",
    "\n",
    "print(classification_report(y_test, y_pred))\n",
    "\n",
    "cm = confusion_matrix(y_test, y_pred)\n",
    "sns.heatmap(cm, annot=True)"
   ]
  },
  {
   "cell_type": "code",
   "execution_count": 35,
   "metadata": {},
   "outputs": [
    {
     "data": {
      "image/png": "[encoded data removed]",
      "text/plain": [
       "<Figure size 640x480 with 1 Axes>"
      ]
     },
     "metadata": {},
     "output_type": "display_data"
    }
   ],
   "source": [
    "epochs = range(1, len(history.history['loss']) + 1)\n",
    "accuracy = history.history['accuracy']\n",
    "val_accuracy = history.history['val_accuracy']\n",
    "precision = metrics_callback.precision_scores\n",
    "recall = metrics_callback.recall_scores\n",
    "f1 = metrics_callback.f1_scores\n",
    "\n",
    "data = pd.DataFrame({'Epoch': epochs, 'Accuracy': accuracy, 'Precision': precision, \n",
    "                     'Recall': recall, 'F1-score': f1})\n",
    "data = pd.melt(data, id_vars=['Epoch'], var_name='Metric', value_name='Score')\n",
    "\n",
    "sns.lineplot(x='Epoch', y='Score', hue='Metric', data=data)\n",
    "plt.title('Model Performance Metrics')\n",
    "\n",
    "plt.text(0.98, 0.98, f'0 Samples: {7000}', \n",
    "         horizontalalignment='right', verticalalignment='top', transform=plt.gca().transAxes, fontsize=8)\n",
    "plt.text(0.98, 0.93, f'1 Samples: {10000}', \n",
    "         horizontalalignment='right', verticalalignment='top', transform=plt.gca().transAxes, fontsize=8)\n",
    "\n",
    "plt.show()"
   ]
  },
  {
   "cell_type": "code",
   "execution_count": null,
   "metadata": {},
   "outputs": [],
   "source": []
  }
 ],
 "metadata": {
  "kernelspec": {
   "display_name": "Python 3",
   "language": "python",
   "name": "python3"
  },
  "language_info": {
   "codemirror_mode": {
    "name": "ipython",
    "version": 3
   },
   "file_extension": ".py",
   "mimetype": "text/x-python",
   "name": "python",
   "nbconvert_exporter": "python",
   "pygments_lexer": "ipython3",
   "version": "3.11.7"
  }
 },
 "nbformat": 4,
 "nbformat_minor": 2
}
