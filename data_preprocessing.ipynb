{
 "cells": [
  {
   "cell_type": "code",
   "execution_count": 1,
   "metadata": {},
   "outputs": [],
   "source": [
    "import tensorflow as tf\n",
    "from tensorflow.keras.models import Sequential\n",
    "from tensorflow.keras.layers import Bidirectional, LSTM, Dense\n",
    "import pandas as pd\n",
    "import nltk\n",
    "from nltk.corpus import stopwords\n",
    "import string"
   ]
  },
  {
   "cell_type": "code",
   "execution_count": 2,
   "metadata": {},
   "outputs": [],
   "source": [
    "twitter_df = pd.read_csv('cyberbullying_tweets.csv')"
   ]
  },
  {
   "cell_type": "code",
   "execution_count": 3,
   "metadata": {},
   "outputs": [],
   "source": [
    "words_to_remove = set()\n",
    "words_to_remove.add('http')\n",
    "words_to_remove.add('rt')"
   ]
  },
  {
   "cell_type": "code",
   "execution_count": 4,
   "metadata": {},
   "outputs": [],
   "source": [
    "def shorten_word(word):\n",
    "    shortened_word = []\n",
    "    repeat_count = 1\n",
    "    last_char = ''\n",
    "    for char in word:\n",
    "        if char == last_char:\n",
    "            repeat_count += 1\n",
    "        else:\n",
    "            repeat_count = 1\n",
    "            last_char = char\n",
    "        if repeat_count <= 2:\n",
    "            shortened_word.append(char)\n",
    "    return ''.join(shortened_word)"
   ]
  },
  {
   "cell_type": "code",
   "execution_count": 5,
   "metadata": {},
   "outputs": [],
   "source": [
    "def preprocess_text(text):\n",
    "    text = text.lower()\n",
    "    text = nltk.word_tokenize(text)\n",
    "    text = [word for word in text if word not in stopwords.words('english')]\n",
    "    text = [word for word in text if not any(char in word for char in string.punctuation)]\n",
    "    text = [word for word in text if word not in words_to_remove]\n",
    "    text = [shorten_word(word) for word in text]\n",
    "    text = ' '.join(text)\n",
    "    return text"
   ]
  },
  {
   "cell_type": "code",
   "execution_count": 6,
   "metadata": {},
   "outputs": [],
   "source": [
    "for index, row in twitter_df.iterrows():\n",
    "    twitter_df.loc[index, 'processed_tweet_text'] = preprocess_text(row['tweet_text'])"
   ]
  },
  {
   "cell_type": "code",
   "execution_count": 7,
   "metadata": {},
   "outputs": [
    {
     "data": {
      "text/html": [
       "<div>\n",
       "<style scoped>\n",
       "    .dataframe tbody tr th:only-of-type {\n",
       "        vertical-align: middle;\n",
       "    }\n",
       "\n",
       "    .dataframe tbody tr th {\n",
       "        vertical-align: top;\n",
       "    }\n",
       "\n",
       "    .dataframe thead th {\n",
       "        text-align: right;\n",
       "    }\n",
       "</style>\n",
       "<table border=\"1\" class=\"dataframe\">\n",
       "  <thead>\n",
       "    <tr style=\"text-align: right;\">\n",
       "      <th></th>\n",
       "      <th>tweet_text</th>\n",
       "      <th>cyberbullying_type</th>\n",
       "      <th>processed_tweet_text</th>\n",
       "    </tr>\n",
       "  </thead>\n",
       "  <tbody>\n",
       "    <tr>\n",
       "      <th>0</th>\n",
       "      <td>In other words #katandandre, your food was cra...</td>\n",
       "      <td>not_cyberbullying</td>\n",
       "      <td>words katandandre food crapilicious mkr</td>\n",
       "    </tr>\n",
       "    <tr>\n",
       "      <th>1</th>\n",
       "      <td>Why is #aussietv so white? #MKR #theblock #ImA...</td>\n",
       "      <td>not_cyberbullying</td>\n",
       "      <td>aussietv white mkr theblock imacelebrityau tod...</td>\n",
       "    </tr>\n",
       "    <tr>\n",
       "      <th>2</th>\n",
       "      <td>@XochitlSuckkks a classy whore? Or more red ve...</td>\n",
       "      <td>not_cyberbullying</td>\n",
       "      <td>xochitlsuckks classy whore red velvet cupcakes</td>\n",
       "    </tr>\n",
       "    <tr>\n",
       "      <th>3</th>\n",
       "      <td>@Jason_Gio meh. :P  thanks for the heads up, b...</td>\n",
       "      <td>not_cyberbullying</td>\n",
       "      <td>meh p thanks heads concerned another angry dud...</td>\n",
       "    </tr>\n",
       "    <tr>\n",
       "      <th>4</th>\n",
       "      <td>@RudhoeEnglish This is an ISIS account pretend...</td>\n",
       "      <td>not_cyberbullying</td>\n",
       "      <td>rudhoeenglish isis account pretending kurdish ...</td>\n",
       "    </tr>\n",
       "    <tr>\n",
       "      <th>5</th>\n",
       "      <td>@Raja5aab @Quickieleaks Yes, the test of god i...</td>\n",
       "      <td>not_cyberbullying</td>\n",
       "      <td>raja5aab quickieleaks yes test god good bad in...</td>\n",
       "    </tr>\n",
       "    <tr>\n",
       "      <th>6</th>\n",
       "      <td>Itu sekolah ya bukan tempat bully! Ga jauh kay...</td>\n",
       "      <td>not_cyberbullying</td>\n",
       "      <td>itu sekolah ya bukan tempat bully ga jauh kaya...</td>\n",
       "    </tr>\n",
       "    <tr>\n",
       "      <th>7</th>\n",
       "      <td>Karma. I hope it bites Kat on the butt. She is...</td>\n",
       "      <td>not_cyberbullying</td>\n",
       "      <td>karma hope bites kat butt nasty mkr</td>\n",
       "    </tr>\n",
       "    <tr>\n",
       "      <th>8</th>\n",
       "      <td>@stockputout everything but mostly my priest</td>\n",
       "      <td>not_cyberbullying</td>\n",
       "      <td>stockputout everything mostly priest</td>\n",
       "    </tr>\n",
       "    <tr>\n",
       "      <th>9</th>\n",
       "      <td>Rebecca Black Drops Out of School Due to Bully...</td>\n",
       "      <td>not_cyberbullying</td>\n",
       "      <td>rebecca black drops school due bullying</td>\n",
       "    </tr>\n",
       "    <tr>\n",
       "      <th>10</th>\n",
       "      <td>@Jord_Is_Dead http://t.co/UsQInYW5Gn</td>\n",
       "      <td>not_cyberbullying</td>\n",
       "      <td></td>\n",
       "    </tr>\n",
       "    <tr>\n",
       "      <th>11</th>\n",
       "      <td>The Bully flushes on KD http://twitvid.com/A2TNP</td>\n",
       "      <td>not_cyberbullying</td>\n",
       "      <td>bully flushes kd</td>\n",
       "    </tr>\n",
       "    <tr>\n",
       "      <th>12</th>\n",
       "      <td>Ughhhh #MKR</td>\n",
       "      <td>not_cyberbullying</td>\n",
       "      <td>ughh mkr</td>\n",
       "    </tr>\n",
       "    <tr>\n",
       "      <th>13</th>\n",
       "      <td>RT @Kurdsnews: Turkish state has killed 241 ch...</td>\n",
       "      <td>not_cyberbullying</td>\n",
       "      <td>kurdsnews turkish state killed 241 children la...</td>\n",
       "    </tr>\n",
       "    <tr>\n",
       "      <th>14</th>\n",
       "      <td>Love that the best response to the hotcakes th...</td>\n",
       "      <td>not_cyberbullying</td>\n",
       "      <td>love best response hotcakes managed film meh a...</td>\n",
       "    </tr>\n",
       "  </tbody>\n",
       "</table>\n",
       "</div>"
      ],
      "text/plain": [
       "                                           tweet_text cyberbullying_type  \\\n",
       "0   In other words #katandandre, your food was cra...  not_cyberbullying   \n",
       "1   Why is #aussietv so white? #MKR #theblock #ImA...  not_cyberbullying   \n",
       "2   @XochitlSuckkks a classy whore? Or more red ve...  not_cyberbullying   \n",
       "3   @Jason_Gio meh. :P  thanks for the heads up, b...  not_cyberbullying   \n",
       "4   @RudhoeEnglish This is an ISIS account pretend...  not_cyberbullying   \n",
       "5   @Raja5aab @Quickieleaks Yes, the test of god i...  not_cyberbullying   \n",
       "6   Itu sekolah ya bukan tempat bully! Ga jauh kay...  not_cyberbullying   \n",
       "7   Karma. I hope it bites Kat on the butt. She is...  not_cyberbullying   \n",
       "8        @stockputout everything but mostly my priest  not_cyberbullying   \n",
       "9   Rebecca Black Drops Out of School Due to Bully...  not_cyberbullying   \n",
       "10               @Jord_Is_Dead http://t.co/UsQInYW5Gn  not_cyberbullying   \n",
       "11   The Bully flushes on KD http://twitvid.com/A2TNP  not_cyberbullying   \n",
       "12                                        Ughhhh #MKR  not_cyberbullying   \n",
       "13  RT @Kurdsnews: Turkish state has killed 241 ch...  not_cyberbullying   \n",
       "14  Love that the best response to the hotcakes th...  not_cyberbullying   \n",
       "\n",
       "                                 processed_tweet_text  \n",
       "0             words katandandre food crapilicious mkr  \n",
       "1   aussietv white mkr theblock imacelebrityau tod...  \n",
       "2      xochitlsuckks classy whore red velvet cupcakes  \n",
       "3   meh p thanks heads concerned another angry dud...  \n",
       "4   rudhoeenglish isis account pretending kurdish ...  \n",
       "5   raja5aab quickieleaks yes test god good bad in...  \n",
       "6   itu sekolah ya bukan tempat bully ga jauh kaya...  \n",
       "7                 karma hope bites kat butt nasty mkr  \n",
       "8                stockputout everything mostly priest  \n",
       "9             rebecca black drops school due bullying  \n",
       "10                                                     \n",
       "11                                   bully flushes kd  \n",
       "12                                           ughh mkr  \n",
       "13  kurdsnews turkish state killed 241 children la...  \n",
       "14  love best response hotcakes managed film meh a...  "
      ]
     },
     "execution_count": 7,
     "metadata": {},
     "output_type": "execute_result"
    }
   ],
   "source": [
    "twitter_df.head(15)"
   ]
  },
  {
   "cell_type": "code",
   "execution_count": 10,
   "metadata": {},
   "outputs": [
    {
     "name": "stdout",
     "output_type": "stream",
     "text": [
      "Vocabulary Size: 52456\n"
     ]
    }
   ],
   "source": [
    "from collections import Counter\n",
    "\n",
    "tokens = []\n",
    "\n",
    "for text in twitter_df['processed_tweet_text']:\n",
    "    tokens.extend(text.split())\n",
    "    \n",
    "vocab = set(tokens)\n",
    "\n",
    "word_counts = Counter(tokens)\n",
    "\n",
    "print(f\"Vocabulary Size: {len(vocab)}\")"
   ]
  },
  {
   "cell_type": "code",
   "execution_count": 11,
   "metadata": {},
   "outputs": [],
   "source": [
    "twitter_df = twitter_df[twitter_df['processed_tweet_text'] != '']\n",
    "twitter_df.head(15)"
   ]
  },
  {
   "cell_type": "code",
   "execution_count": 13,
   "metadata": {},
   "outputs": [],
   "source": [
    "def convert_cyberbullying_type(row):\n",
    "    if row['cyberbullying_type'] == 'not_cyberbullying':\n",
    "        return 'not_cyberbullying'\n",
    "    else:\n",
    "        return 'cyberbullying'\n",
    "    \n",
    "twitter_df['cyberbullying_type'] = twitter_df.apply(convert_cyberbullying_type, axis=1)"
   ]
  },
  {
   "cell_type": "code",
   "execution_count": 14,
   "metadata": {},
   "outputs": [],
   "source": [
    "twitter_df[['cyberbullying_type', 'processed_tweet_text']].to_csv('processed_cyberbullying_tweets.csv', index=False)"
   ]
  },
  {
   "cell_type": "code",
   "execution_count": null,
   "metadata": {},
   "outputs": [],
   "source": []
  }
 ],
 "metadata": {
  "kernelspec": {
   "display_name": "Python 3",
   "language": "python",
   "name": "python3"
  },
  "language_info": {
   "codemirror_mode": {
    "name": "ipython",
    "version": 3
   },
   "file_extension": ".py",
   "mimetype": "text/x-python",
   "name": "python",
   "nbconvert_exporter": "python",
   "pygments_lexer": "ipython3",
   "version": "3.11.7"
  }
 },
 "nbformat": 4,
 "nbformat_minor": 2
}
