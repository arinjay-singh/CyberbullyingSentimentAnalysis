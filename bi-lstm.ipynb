{
 "cells": [
  {
   "cell_type": "code",
   "execution_count": 1,
   "metadata": {},
   "outputs": [],
   "source": [
    "import pandas\n",
    "from nltk import word_tokenize\n",
    "from gensim.models import Word2Vec"
   ]
  },
  {
   "cell_type": "code",
   "execution_count": 2,
   "metadata": {},
   "outputs": [],
   "source": [
    "twitter_df = pandas.read_csv('processed_cyberbullying_tweets.csv')\n",
    "tweets = twitter_df['processed_tweet_text'].astype(str).tolist()"
   ]
  },
  {
   "cell_type": "code",
   "execution_count": 3,
   "metadata": {},
   "outputs": [],
   "source": [
    "tokenized_sentences = [word_tokenize(sentence.lower()) for sentence in tweets]\n",
    "model = Word2Vec(sentences=tokenized_sentences, vector_size=100, window=5, min_count=1, workers=4)"
   ]
  },
  {
   "cell_type": "code",
   "execution_count": 4,
   "metadata": {},
   "outputs": [
    {
     "data": {
      "text/plain": [
       "array([-0.16507632,  0.378619  ,  0.42582017,  0.09427286,  0.27047658,\n",
       "       -0.616987  , -0.03579869,  0.5923699 , -0.2402382 , -0.6410478 ,\n",
       "       -0.5465586 , -0.7373149 ,  0.17662947,  0.5866825 ,  0.31872606,\n",
       "       -0.49406663,  0.7272476 , -1.1522293 , -0.03014559, -0.3891347 ,\n",
       "        0.1614495 ,  0.48566505, -0.20668092, -0.00683245, -0.31284314,\n",
       "        0.93129146, -0.33948398,  0.29610497, -0.6009659 , -0.6264338 ,\n",
       "        0.38470724,  0.29574358, -0.7474082 , -0.13250948, -0.00336032,\n",
       "        0.02354942,  0.5641148 , -0.04870421, -0.14749198, -0.23952669,\n",
       "       -0.27287707,  0.01315786,  0.5902684 , -1.0756754 , -0.04096899,\n",
       "       -0.3709021 , -0.6761695 ,  0.06842796,  0.48521775,  0.24698234,\n",
       "        0.13484697, -0.18559156, -0.05258599, -0.3982558 , -0.5025895 ,\n",
       "       -0.01351647,  0.8634048 ,  0.06611503, -0.17563474, -0.06008829,\n",
       "       -0.22269532, -0.40564618, -0.10571008,  0.40170297, -1.109385  ,\n",
       "        0.20466815,  0.30048367, -0.34155652,  0.14841117,  1.3641317 ,\n",
       "       -0.09211048, -0.24832828,  0.2742167 , -0.08201118,  0.25890368,\n",
       "        0.04737085,  0.51365256, -0.42498305, -0.3129558 ,  0.5832572 ,\n",
       "       -0.41287318,  0.33098838, -0.39899763,  0.5870745 ,  0.18376426,\n",
       "        0.21362235, -0.6578826 ,  1.2236586 , -0.14267455,  0.23168789,\n",
       "        0.3167708 , -0.3039802 ,  0.59318745,  0.18402277, -0.07786603,\n",
       "        0.9826457 ,  0.9041056 , -0.44323438,  0.05940678,  0.25326544],\n",
       "      dtype=float32)"
      ]
     },
     "execution_count": 4,
     "metadata": {},
     "output_type": "execute_result"
    }
   ],
   "source": [
    "model.wv['food']"
   ]
  },
  {
   "cell_type": "code",
   "execution_count": 5,
   "metadata": {},
   "outputs": [
    {
     "data": {
      "text/plain": [
       "52456"
      ]
     },
     "execution_count": 5,
     "metadata": {},
     "output_type": "execute_result"
    }
   ],
   "source": [
    "vocab_size = len(model.wv.key_to_index)\n",
    "vocab_size"
   ]
  },
  {
   "cell_type": "code",
   "execution_count": 6,
   "metadata": {},
   "outputs": [],
   "source": [
    "twitter_df['word_embeddings'] = twitter_df.apply(lambda x : list(), axis=1)\n",
    "\n",
    "for index, row in twitter_df.iterrows():\n",
    "    for word in word_tokenize(str(row['processed_tweet_text']).lower()):\n",
    "        row['word_embeddings'].append(model.wv[word])\n",
    "    while len(row['word_embeddings']) < 50:\n",
    "        row['word_embeddings'].append([0]*100)\n",
    "    "
   ]
  },
  {
   "cell_type": "code",
   "execution_count": 7,
   "metadata": {},
   "outputs": [
    {
     "data": {
      "text/plain": [
       "50"
      ]
     },
     "execution_count": 7,
     "metadata": {},
     "output_type": "execute_result"
    }
   ],
   "source": [
    "len(twitter_df.loc[0, 'word_embeddings'])"
   ]
  },
  {
   "cell_type": "code",
   "execution_count": 8,
   "metadata": {},
   "outputs": [
    {
     "data": {
      "text/plain": [
       "100"
      ]
     },
     "execution_count": 8,
     "metadata": {},
     "output_type": "execute_result"
    }
   ],
   "source": [
    "len(twitter_df.loc[0, 'word_embeddings'][0])"
   ]
  },
  {
   "cell_type": "code",
   "execution_count": 9,
   "metadata": {},
   "outputs": [
    {
     "data": {
      "text/plain": [
       "array([ 0.01396496,  0.03674521,  0.33667824, -0.18725915,  0.05866458,\n",
       "       -0.64042145,  0.18733108,  0.5918964 , -0.15871692, -0.8563191 ,\n",
       "       -0.17198688, -1.1738398 , -0.00602487,  0.27594268,  0.44476044,\n",
       "       -0.07357663,  0.5433722 , -1.3748239 , -0.23401612, -0.87440807,\n",
       "        0.15573582,  0.34856936,  0.07077159, -0.22229286, -0.08623464,\n",
       "        1.1153108 , -0.7064376 ,  0.34752527, -0.5274295 , -0.43344584,\n",
       "        0.4718638 ,  0.2722596 , -0.0817119 , -0.14780602,  0.00902986,\n",
       "        0.3234242 ,  0.6845311 , -0.2234101 , -0.20537469, -0.59433836,\n",
       "       -0.48786896, -0.12891798,  0.64297706, -0.96116126,  0.13271472,\n",
       "       -0.51004785, -0.32792   ,  0.36148915,  0.9425134 ,  0.65676916,\n",
       "        0.38488388, -0.38646173,  0.07120061, -0.07105207, -0.57854754,\n",
       "       -0.12074959,  0.9603054 , -0.06652799, -0.62223744, -0.21678413,\n",
       "       -0.33073157, -0.16109386,  0.4395191 ,  0.81728804, -1.2463111 ,\n",
       "        0.22458728,  0.40275994,  0.18307427, -0.32781166,  1.6888913 ,\n",
       "       -0.17464419,  0.1175409 ,  0.25025564, -0.01962244,  0.8788694 ,\n",
       "        0.16929767,  0.6591589 , -0.36220598, -0.19497065,  0.50848496,\n",
       "       -0.3728273 ,  0.29521483, -0.58334196,  0.67997175,  0.376952  ,\n",
       "       -0.17291512, -0.49184462,  1.2150998 ,  0.3208315 ,  0.40467072,\n",
       "        0.67716306,  0.19739445,  0.54008436,  0.19120792,  0.24402721,\n",
       "        0.83731675,  1.0360022 , -0.4368461 , -0.01897442,  0.36880824],\n",
       "      dtype=float32)"
      ]
     },
     "execution_count": 9,
     "metadata": {},
     "output_type": "execute_result"
    }
   ],
   "source": [
    "model.wv['words']"
   ]
  },
  {
   "cell_type": "code",
   "execution_count": 10,
   "metadata": {},
   "outputs": [],
   "source": [
    "from sklearn.model_selection import train_test_split"
   ]
  },
  {
   "cell_type": "code",
   "execution_count": 11,
   "metadata": {},
   "outputs": [],
   "source": [
    "X = twitter_df['word_embeddings'].tolist()\n",
    "y = twitter_df['cyberbullying_type'].tolist()\n",
    "\n",
    "X_train, X_test, y_train, y_test = train_test_split(X, y, test_size=0.3, random_state=42)"
   ]
  },
  {
   "cell_type": "code",
   "execution_count": 12,
   "metadata": {},
   "outputs": [],
   "source": [
    "import tensorflow as tf\n",
    "from tensorflow.keras.models import Sequential\n",
    "from tensorflow.keras.layers import Embedding, Bidirectional, LSTM, Dense"
   ]
  },
  {
   "cell_type": "code",
   "execution_count": 13,
   "metadata": {},
   "outputs": [
    {
     "name": "stdout",
     "output_type": "stream",
     "text": [
      "Model: \"sequential\"\n",
      "_________________________________________________________________\n",
      " Layer (type)                Output Shape              Param #   \n",
      "=================================================================\n",
      " embedding (Embedding)       (None, 50, 100)           5245600   \n",
      "                                                                 \n",
      " bidirectional (Bidirection  (None, 128)               84480     \n",
      " al)                                                             \n",
      "                                                                 \n",
      " dense (Dense)               (None, 64)                8256      \n",
      "                                                                 \n",
      " dense_1 (Dense)             (None, 1)                 65        \n",
      "                                                                 \n",
      "=================================================================\n",
      "Total params: 5338401 (20.36 MB)\n",
      "Trainable params: 5338401 (20.36 MB)\n",
      "Non-trainable params: 0 (0.00 Byte)\n",
      "_________________________________________________________________\n"
     ]
    }
   ],
   "source": [
    "# Define the model\n",
    "bilstm = Sequential()\n",
    "\n",
    "# Embedding layer\n",
    "bilstm.add(Embedding(input_dim=52456, output_dim=100, input_length=50))\n",
    "\n",
    "# Bidirectional LSTM layer\n",
    "bilstm.add(Bidirectional(LSTM(64)))\n",
    "\n",
    "# Additional Dense layer for more complex transformations\n",
    "bilstm.add(Dense(64, activation='relu'))  # Added intermediate Dense layer with 64 units\n",
    "\n",
    "# Output layer for binary classification\n",
    "bilstm.add(Dense(1, activation='sigmoid'))\n",
    "\n",
    "# Compile the model\n",
    "bilstm.compile(optimizer='adam', loss='binary_crossentropy', metrics=['accuracy'])\n",
    "\n",
    "# Model summary to see the updated architecture\n",
    "bilstm.summary()"
   ]
  },
  {
   "cell_type": "code",
   "execution_count": 14,
   "metadata": {},
   "outputs": [
    {
     "ename": "",
     "evalue": "",
     "output_type": "error",
     "traceback": [
      "\u001b[1;31mFailed to interrupt the Kernel. \n",
      "\u001b[1;31mUnable to start Kernel 'Python 3.10.9' due to a connection timeout. \n",
      "\u001b[1;31mView Jupyter <a href='command:jupyter.viewOutput'>log</a> for further details."
     ]
    }
   ],
   "source": [
    "bilstm.fit(X_train, y_train, epochs=10, batch_size=32, validation_split=0.2, verbose=1)"
   ]
  }
 ],
 "metadata": {
  "kernelspec": {
   "display_name": "Python 3",
   "language": "python",
   "name": "python3"
  },
  "language_info": {
   "codemirror_mode": {
    "name": "ipython",
    "version": 3
   },
   "file_extension": ".py",
   "mimetype": "text/x-python",
   "name": "python",
   "nbconvert_exporter": "python",
   "pygments_lexer": "ipython3",
   "version": "3.10.9"
  }
 },
 "nbformat": 4,
 "nbformat_minor": 2
}
