{
 "cells": [
  {
   "cell_type": "code",
   "execution_count": 1,
   "metadata": {},
   "outputs": [],
   "source": [
    "import pandas\n",
    "from nltk import word_tokenize\n",
    "from gensim.models import Word2Vec"
   ]
  },
  {
   "cell_type": "code",
   "execution_count": 2,
   "metadata": {},
   "outputs": [],
   "source": [
    "twitter_df = pandas.read_csv('processed_cyberbullying_tweets.csv')\n",
    "tweets = twitter_df['processed_tweet_text'].tolist()"
   ]
  },
  {
   "cell_type": "code",
   "execution_count": 3,
   "metadata": {},
   "outputs": [],
   "source": [
    "tokenized_sentences = [word_tokenize(sentence.lower()) for sentence in tweets]\n",
    "\n",
    "model = Word2Vec(sentences=tokenized_sentences, vector_size=100, window=5, min_count=1, workers=4)"
   ]
  },
  {
   "cell_type": "code",
   "execution_count": 4,
   "metadata": {},
   "outputs": [
    {
     "data": {
      "text/plain": [
       "array([-5.86860955e-01,  2.38550022e-01,  3.95596564e-01, -2.89474368e-01,\n",
       "        8.44315812e-02, -8.36907744e-01, -2.15526164e-01,  8.75579715e-01,\n",
       "        1.74055427e-01,  3.42865027e-02, -3.26818436e-01, -9.88451362e-01,\n",
       "        1.42101437e-01,  3.72867256e-01,  2.73318708e-01, -7.55292103e-02,\n",
       "        5.28478563e-01, -8.67981195e-01,  4.59059805e-01, -2.74958640e-01,\n",
       "        1.17605142e-01,  4.19609696e-01,  2.95333534e-01, -1.55547544e-01,\n",
       "       -4.79234338e-01,  3.65445673e-01, -2.68072397e-01, -1.17718153e-01,\n",
       "       -2.81110138e-01, -5.11794508e-01,  3.70320499e-01,  2.27155283e-01,\n",
       "       -8.31738234e-01, -2.29942966e-02,  6.13431968e-02,  1.55243352e-01,\n",
       "        4.63059545e-02, -5.37972927e-01, -3.21851671e-01, -2.65360296e-01,\n",
       "        1.18336841e-01,  1.96436778e-01,  5.83472192e-01, -4.76839185e-01,\n",
       "        1.66115567e-01, -3.99585456e-01, -9.63742256e-01, -5.23884892e-01,\n",
       "        2.41845146e-01,  3.26203853e-01,  1.70376033e-01,  4.03633058e-01,\n",
       "        2.90546775e-01,  3.26538235e-01, -2.83391416e-01,  2.45650962e-01,\n",
       "        8.80865455e-01,  2.12888420e-01,  1.90383364e-02, -1.53408244e-01,\n",
       "        8.07285216e-03, -3.89390498e-01,  6.16951787e-04, -7.51438513e-02,\n",
       "       -1.01996398e+00, -3.45973670e-01, -4.74886447e-02,  5.44882827e-02,\n",
       "        2.44166940e-01,  1.38808286e+00, -4.97743599e-02, -5.68617046e-01,\n",
       "        3.79733071e-02, -2.84054428e-01,  1.11534595e+00,  3.66108745e-01,\n",
       "        3.62968266e-01, -3.16316217e-01, -6.39499605e-01,  2.98888057e-01,\n",
       "       -5.48946559e-01,  6.67683005e-01, -1.78588867e-01, -1.91938475e-01,\n",
       "       -1.07384205e-01, -2.19896324e-02, -4.05208439e-01,  1.12207365e+00,\n",
       "        1.00943767e-01,  4.02441114e-01,  5.93614638e-01, -5.52307487e-01,\n",
       "        3.47582400e-01,  9.37262401e-02,  8.60503390e-02,  8.79316628e-01,\n",
       "        8.32296610e-01, -2.89166242e-01, -5.30080736e-01, -5.78776412e-02],\n",
       "      dtype=float32)"
      ]
     },
     "execution_count": 4,
     "metadata": {},
     "output_type": "execute_result"
    }
   ],
   "source": [
    "model.wv['food']"
   ]
  },
  {
   "cell_type": "code",
   "execution_count": 7,
   "metadata": {},
   "outputs": [
    {
     "data": {
      "text/plain": [
       "52456"
      ]
     },
     "execution_count": 7,
     "metadata": {},
     "output_type": "execute_result"
    }
   ],
   "source": [
    "vocab_size = len(model.wv.key_to_index)\n",
    "vocab_size"
   ]
  },
  {
   "cell_type": "code",
   "execution_count": 8,
   "metadata": {},
   "outputs": [],
   "source": [
    "import tensorflow as tf\n",
    "from tensorflow.keras.models import Sequential\n",
    "from tensorflow.keras.layers import Embedding, Bidirectional, LSTM, Dense"
   ]
  },
  {
   "cell_type": "code",
   "execution_count": 9,
   "metadata": {},
   "outputs": [
    {
     "name": "stdout",
     "output_type": "stream",
     "text": [
      "Model: \"sequential\"\n",
      "_________________________________________________________________\n",
      " Layer (type)                Output Shape              Param #   \n",
      "=================================================================\n",
      " embedding (Embedding)       (None, 50, 100)           5245600   \n",
      "                                                                 \n",
      " bidirectional (Bidirection  (None, 128)               84480     \n",
      " al)                                                             \n",
      "                                                                 \n",
      " dense (Dense)               (None, 64)                8256      \n",
      "                                                                 \n",
      " dense_1 (Dense)             (None, 1)                 65        \n",
      "                                                                 \n",
      "=================================================================\n",
      "Total params: 5338401 (20.36 MB)\n",
      "Trainable params: 5338401 (20.36 MB)\n",
      "Non-trainable params: 0 (0.00 Byte)\n",
      "_________________________________________________________________\n"
     ]
    }
   ],
   "source": [
    "# Define the model\n",
    "model = Sequential()\n",
    "\n",
    "# Embedding layer\n",
    "model.add(Embedding(input_dim=52456, output_dim=100, input_length=50))\n",
    "\n",
    "# Bidirectional LSTM layer\n",
    "model.add(Bidirectional(LSTM(64)))\n",
    "\n",
    "# Additional Dense layer for more complex transformations\n",
    "model.add(Dense(64, activation='relu'))  # Added intermediate Dense layer with 64 units\n",
    "\n",
    "# Output layer for binary classification\n",
    "model.add(Dense(1, activation='sigmoid'))\n",
    "\n",
    "# Compile the model\n",
    "model.compile(optimizer='adam', loss='binary_crossentropy', metrics=['accuracy'])\n",
    "\n",
    "# Model summary to see the updated architecture\n",
    "model.summary()"
   ]
  }
 ],
 "metadata": {
  "kernelspec": {
   "display_name": "Python 3",
   "language": "python",
   "name": "python3"
  },
  "language_info": {
   "codemirror_mode": {
    "name": "ipython",
    "version": 3
   },
   "file_extension": ".py",
   "mimetype": "text/x-python",
   "name": "python",
   "nbconvert_exporter": "python",
   "pygments_lexer": "ipython3",
   "version": "3.10.9"
  }
 },
 "nbformat": 4,
 "nbformat_minor": 2
}
