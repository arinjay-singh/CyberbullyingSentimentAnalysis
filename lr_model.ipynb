{
 "cells": [
  {
   "cell_type": "code",
   "execution_count": 13,
   "metadata": {},
   "outputs": [],
   "source": [
    "# imports\n",
    "import pandas\n",
    "from nltk import word_tokenize\n",
    "from gensim.models import Word2Vec\n",
    "\n",
    "import numpy as np\n",
    "\n",
    "from sklearn.linear_model import LogisticRegression\n",
    "from sklearn.model_selection import train_test_split\n",
    "from sklearn.metrics import accuracy_score, classification_report\n",
    "from sklearn.metrics import classification_report"
   ]
  },
  {
   "cell_type": "code",
   "execution_count": 14,
   "metadata": {},
   "outputs": [
    {
     "name": "stdout",
     "output_type": "stream",
     "text": [
      "Accuracy: 0.8519760981234931\n",
      "              precision    recall  f1-score   support\n",
      "\n",
      "           0       0.65      0.29      0.40      1624\n",
      "           1       0.87      0.97      0.92      7915\n",
      "\n",
      "    accuracy                           0.85      9539\n",
      "   macro avg       0.76      0.63      0.66      9539\n",
      "weighted avg       0.83      0.85      0.83      9539\n",
      "\n"
     ]
    },
    {
     "name": "stderr",
     "output_type": "stream",
     "text": [
      "/Users/jackoehling/Library/Python/3.9/lib/python/site-packages/sklearn/linear_model/_logistic.py:460: ConvergenceWarning: lbfgs failed to converge (status=1):\n",
      "STOP: TOTAL NO. of ITERATIONS REACHED LIMIT.\n",
      "\n",
      "Increase the number of iterations (max_iter) or scale the data as shown in:\n",
      "    https://scikit-learn.org/stable/modules/preprocessing.html\n",
      "Please also refer to the documentation for alternative solver options:\n",
      "    https://scikit-learn.org/stable/modules/linear_model.html#logistic-regression\n",
      "  n_iter_i = _check_optimize_result(\n"
     ]
    }
   ],
   "source": [
    "twitter_df = pandas.read_csv('processed_cyberbullying_tweets.csv')\n",
    "tweets = twitter_df['processed_tweet_text'].apply(str).tolist()\n",
    "\n",
    "labels = twitter_df['cyberbullying_type']\n",
    "\n",
    "tokenized_sentences = [word_tokenize(sentence) for sentence in tweets]\n",
    "\n",
    "model = Word2Vec(sentences=tokenized_sentences, vector_size=100, window=5, min_count=1, workers=4)\n",
    "\n",
    "def tweet_to_vector(tweet, model):\n",
    "    vector_list = [model.wv[word] for word in tweet if word in model.wv]\n",
    "    if len(vector_list) == 0:\n",
    "        return np.zeros(model.vector_size)\n",
    "    vector = np.mean(vector_list, axis=0)\n",
    "    return vector\n",
    "\n",
    "lr_model = LogisticRegression()\n",
    "\n",
    "\n",
    "tweet_vectors = np.array([tweet_to_vector(tweet, model) for tweet in tokenized_sentences])\n",
    "\n",
    "\n",
    "X_train, X_test, y_train, y_test = train_test_split(tweet_vectors, labels, test_size=0.2, random_state=42)\n",
    "\n",
    "\n",
    "lr_model.fit(X_train, y_train)\n",
    "\n",
    "\n",
    "y_pred = lr_model.predict(X_test)\n",
    "print(f\"Accuracy: {accuracy_score(y_test, y_pred)}\")\n",
    "print(classification_report(y_test, y_pred))"
   ]
  }
 ],
 "metadata": {
  "kernelspec": {
   "display_name": "Python 3",
   "language": "python",
   "name": "python3"
  },
  "language_info": {
   "codemirror_mode": {
    "name": "ipython",
    "version": 3
   },
   "file_extension": ".py",
   "mimetype": "text/x-python",
   "name": "python",
   "nbconvert_exporter": "python",
   "pygments_lexer": "ipython3",
   "version": "3.9.6"
  }
 },
 "nbformat": 4,
 "nbformat_minor": 2
}
